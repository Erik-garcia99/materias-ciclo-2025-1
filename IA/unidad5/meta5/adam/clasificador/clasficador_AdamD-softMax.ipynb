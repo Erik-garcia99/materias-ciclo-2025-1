{
 "cells": [
  {
   "cell_type": "code",
   "execution_count": 1,
   "id": "f7c6cddc-cd88-4718-9d76-50e8bbb6b2fc",
   "metadata": {},
   "outputs": [],
   "source": [
    "import numpy as np\n",
    "import matplotlib.pyplot as plt\n",
    "import pandas as pd\n",
    "from sklearn.model_selection import train_test_split\n",
    "from sklearn.metrics import confusion_matrix, classification_report\n",
    "from sklearn.preprocessing import StandardScaler"
   ]
  },
  {
   "cell_type": "code",
   "execution_count": 2,
   "id": "b8d5b9db-8867-4a21-aaca-6edb30a098b0",
   "metadata": {},
   "outputs": [],
   "source": [
    "def to_classlabel(z):\n",
    "    return z.argmax(axis = 1)"
   ]
  },
  {
   "cell_type": "code",
   "execution_count": 3,
   "id": "f0af6f6a-53aa-44b6-9f25-6cb2b14a35b6",
   "metadata": {},
   "outputs": [],
   "source": [
    "def one_hot_encode(y):\n",
    "    n_class = np.unique(y).shape[0]\n",
    "    y_encode = np.zeros((y.shape[0], n_class))\n",
    "    for idx, val in enumerate(y):\n",
    "        y_encode[idx, val] = 1.0\n",
    "    return y_encode\n"
   ]
  },
  {
   "cell_type": "code",
   "execution_count": 4,
   "id": "786e54c5-6ac2-4c30-9b97-ab80631a1210",
   "metadata": {},
   "outputs": [],
   "source": [
    "# Define Accuracy\n",
    "def accuracy(y_true, y_pred):\n",
    "    acc = np.sum(y_true == y_pred) / len(y_true)\n",
    "    return acc\n"
   ]
  },
  {
   "cell_type": "code",
   "execution_count": null,
   "id": "8c73b413-7b2f-4797-a568-33180d94bec8",
   "metadata": {},
   "outputs": [],
   "source": [
    "\n",
    "class Softmax_Regression_AdamD():\n",
    "    \n",
    "    def __init__(self, lambda_param=0.01):\n",
    "        self.theta = None\n",
    "        self.lambda_param = lambda_param \n",
    "        \n",
    "    def _softmax(self, Z):\n",
    "        shiftZ = Z - np.max(Z, axis=1, keepdims=True)\n",
    "        expZ = np.exp(shiftZ)\n",
    "        return expZ / np.sum(expZ, axis=1, keepdims=True)\n",
    "\n",
    "    def _loss(self, Y, h, theta):\n",
    "        epsilon = 1e-10  # Para evitar log(0)\n",
    "        m = Y.shape[0]\n",
    "        loss = -np.sum(Y * np.log(np.clip(h, epsilon, 1 - epsilon))) / m\n",
    "\n",
    "        reg_term = (self.lambda_param / (2 * m)) * np.sum(theta[1:, :]**2)\n",
    "        return loss + reg_term\n",
    "\n",
    "    def gradient(self, A, Y, h, theta):\n",
    "        m = A.shape[0]\n",
    "        grad = (1 / m) * A.T @ (h - Y)\n",
    "      \n",
    "        grad[1:, :] += (self.lambda_param / m) * theta[1:, :]\n",
    "        return grad\n",
    "\n",
    "    def fit(self, A, y, learning_rate=0.001, beta1=0.9, beta2=0.999, \n",
    "            epsilon=1e-8, epochs=100, batch_size=32, show_step=10, \n",
    "            stopping_threshold=1e-6, verbose=False):\n",
    "        \"\"\"\n",
    "        Entrenamiento con optimizador AdamD\n",
    "        \n",
    "        Parámetros:\n",
    "        A: Matriz de diseño\n",
    "        y: Etiquetas\n",
    "        learning_rate: Tasa de aprendizaje (alpha)\n",
    "        beta1, beta2: Parámetros de momento\n",
    "        epsilon: Constante de estabilidad numérica\n",
    "        epochs: Número máximo de épocas\n",
    "        batch_size: Tamaño del lote (1=online, len(y)=batch, otro=minilotes)\n",
    "        show_step: Frecuencia para mostrar progreso\n",
    "        stopping_threshold: Umbral para parada temprana\n",
    "        verbose: Mostrar información durante el entrenamiento\n",
    "        \"\"\"\n",
    "     \n",
    "        Y = one_hot_encode(y)\n",
    "        n_classes = Y.shape[1]\n",
    "        n_features = A.shape[1]\n",
    "        n_obs = A.shape[0]\n",
    "        \n",
    "      \n",
    "        self.theta = np.random.randn(n_features, n_classes) * 0.01\n",
    "        m = np.zeros_like(self.theta)\n",
    "        v = np.zeros_like(self.theta)\n",
    "        t = 0 \n",
    "        previous_loss = np.inf\n",
    "        epoch_losses = []\n",
    "        \n",
    "        for epoch in range(epochs):\n",
    "         \n",
    "            permutation = np.random.permutation(n_obs)\n",
    "            A_shuffled = A[permutation]\n",
    "            Y_shuffled = Y[permutation]\n",
    "            \n",
    "            epoch_loss = 0.0\n",
    "            n_batches = n_obs // batch_size\n",
    "            residual = n_obs % batch_size\n",
    "            total_batches = n_batches + (1 if residual != 0 else 0)\n",
    "            \n",
    "            for batch_idx in range(total_batches):\n",
    "                t += 1\n",
    "                start = batch_idx * batch_size\n",
    "                end = start + batch_size\n",
    "                \n",
    "                if batch_idx == total_batches - 1 and residual != 0:\n",
    "                    end = start + residual\n",
    "                \n",
    "                A_batch = A_shuffled[start:end]\n",
    "                Y_batch = Y_shuffled[start:end]\n",
    "                \n",
    "                Z_batch = A_batch @ self.theta\n",
    "                S_batch = self._softmax(Z_batch)\n",
    "                loss_batch = self._loss(Y_batch, S_batch, self.theta)\n",
    "                epoch_loss += loss_batch * len(Y_batch)\n",
    "                \n",
    "            \n",
    "                grad = self.gradient(A_batch, Y_batch, S_batch, self.theta)\n",
    "                \n",
    "                m = beta1 * m + (1 - beta1) * grad\n",
    "                v = beta2 * v + (1 - beta2) * (grad**2)\n",
    "                \n",
    "                alpha_t = learning_rate * np.sqrt(1 - beta2**t)\n",
    "                \n",
    "          \n",
    "                self.theta -= alpha_t * m / (np.sqrt(v) + epsilon)\n",
    "            \n",
    "      \n",
    "            epoch_loss /= n_obs\n",
    "            epoch_losses.append(epoch_loss)\n",
    "            \n",
    "      \n",
    "            if epoch > 0 and abs(previous_loss - epoch_loss) < stopping_threshold:\n",
    "                if verbose:\n",
    "                    print(f\"Early stopping at epoch {epoch}\")\n",
    "                break\n",
    "                \n",
    "            previous_loss = epoch_loss\n",
    "            \n",
    "            if verbose and epoch % show_step == 0:\n",
    "                print(f'Epoch: {epoch}, Loss: {epoch_loss:.3e}')\n",
    "        \n",
    "        return epoch_losses\n",
    "                \n",
    "    def predict(self, A):\n",
    "        Z = A @ self.theta\n",
    "        S = self._softmax(Z)\n",
    "        return np.argmax(S, axis=1)"
   ]
  },
  {
   "cell_type": "code",
   "execution_count": 6,
   "id": "a6a07b93-7c35-40be-92ee-f584189ea22b",
   "metadata": {},
   "outputs": [],
   "source": [
    "\n",
    "\n",
    "#  Cargar datos\n",
    "try:\n",
    "\n",
    "    data = np.loadtxt('cancer_dataset.dat', delimiter=',')\n",
    "except:\n",
    " \n",
    "    data = np.fromfile('cancer_dataset.dat', dtype=np.float32)\n",
    "  \n",
    "    data = data.reshape((-1, 31))"
   ]
  },
  {
   "cell_type": "code",
   "execution_count": 7,
   "id": "9ba55c66-710d-4612-a301-f9381a1424e0",
   "metadata": {},
   "outputs": [],
   "source": [
    "\n",
    "\n",
    "\n",
    "# Procesamiento de datos\n",
    "inputs = data[:, :-1]\n",
    "targets = data[:, -1].astype(int)"
   ]
  },
  {
   "cell_type": "code",
   "execution_count": 8,
   "id": "9f494351-fd9c-4c9e-81fe-c44399b630cd",
   "metadata": {},
   "outputs": [],
   "source": [
    "\n",
    "\n",
    "# División de datos\n",
    "x_train, x_test, y_train, y_test = train_test_split(\n",
    "    inputs, targets, test_size=0.3, random_state=42\n",
    ")\n"
   ]
  },
  {
   "cell_type": "code",
   "execution_count": 9,
   "id": "6b15325f-14ce-49c4-bf91-c8102bbec756",
   "metadata": {},
   "outputs": [],
   "source": [
    "# Normalización\n",
    "scaler = StandardScaler()\n",
    "x_train = scaler.fit_transform(x_train)\n",
    "x_test = scaler.transform(x_test)"
   ]
  },
  {
   "cell_type": "code",
   "execution_count": 10,
   "id": "e7354d5a-6c27-46e7-9a69-f5c58658aa75",
   "metadata": {},
   "outputs": [],
   "source": [
    "\n",
    "\n",
    "# Matrices de diseño\n",
    "A_train = np.c_[np.ones(len(x_train)), x_train]\n",
    "A_test = np.c_[np.ones(len(x_test)), x_test]"
   ]
  },
  {
   "cell_type": "code",
   "execution_count": 11,
   "id": "a8e43add-0b9b-4e53-99d1-3b80296e5f03",
   "metadata": {},
   "outputs": [],
   "source": [
    "#online: \n",
    "# lambda_param = 0.1 \n",
    "# fit_params = {\n",
    "#     'learning_rate': 1e-2,\n",
    "#     'beta1': 0.9,\n",
    "#     'beta2': 0.999,\n",
    "#     'epsilon': 1e-8,\n",
    "#     'epochs': 300,\n",
    "#     'batch_size': 1,\n",
    "#     'show_step': 25,\n",
    "#     'stopping_threshold': 1e-4,\n",
    "#     'verbose': True\n",
    "# }\n",
    "\n",
    "#minilote\n",
    "\n",
    "# lambda_param = 0.01 \n",
    "# fit_params = {\n",
    "#     'learning_rate': 1e-3,\n",
    "#     'beta1': 0.9,\n",
    "#     'beta2': 0.999,\n",
    "#     'epsilon': 1e-8,\n",
    "#     'epochs': 1000,\n",
    "#     'batch_size': 256,\n",
    "#     'show_step': 100,\n",
    "#     'stopping_threshold': 1e-4,\n",
    "#     'verbose': True\n",
    "# }\n",
    "\n",
    "#lote \n",
    "lambda_param = 0.01  \n",
    "fit_params = {\n",
    "    'learning_rate': 1e-3,\n",
    "    'beta1': 0.9,\n",
    "    'beta2': 0.999,\n",
    "    'epsilon': 1e-8,\n",
    "    'epochs': 500,\n",
    "    'batch_size': len(y_train),\n",
    "    'show_step': 50,\n",
    "    'stopping_threshold': 1e-4,\n",
    "    'verbose': True\n",
    "}\n"
   ]
  },
  {
   "cell_type": "code",
   "execution_count": 12,
   "id": "3531055d-bc0e-4d15-a5ed-f219d8b5956a",
   "metadata": {},
   "outputs": [
    {
     "name": "stdout",
     "output_type": "stream",
     "text": [
      "Epoch: 0, Loss: 6.801e-01\n",
      "Epoch: 50, Loss: 4.494e-01\n",
      "Epoch: 100, Loss: 3.029e-01\n",
      "Epoch: 150, Loss: 2.255e-01\n",
      "Epoch: 200, Loss: 1.796e-01\n",
      "Epoch: 250, Loss: 1.499e-01\n",
      "Epoch: 300, Loss: 1.294e-01\n",
      "Epoch: 350, Loss: 1.146e-01\n",
      "Epoch: 400, Loss: 1.034e-01\n",
      "Epoch: 450, Loss: 9.464e-02\n"
     ]
    }
   ],
   "source": [
    "# Entrenamiento del modelo\n",
    "\n",
    "model = Softmax_Regression_AdamD(lambda_param=lambda_param)\n",
    "loss_history = model.fit(A_train, y_train, **fit_params)\n",
    "\n",
    "\n"
   ]
  },
  {
   "cell_type": "code",
   "execution_count": 13,
   "id": "c6d5d94f-e7a2-4477-b8ad-3d5d315bef99",
   "metadata": {},
   "outputs": [],
   "source": [
    "\n",
    "# Predicciones\n",
    "train_pred = model.predict(A_train)\n",
    "test_pred = model.predict(A_test)\n",
    "\n"
   ]
  },
  {
   "cell_type": "code",
   "execution_count": null,
   "id": "3fffd313-a2bf-43ea-bda9-0158b48a30c6",
   "metadata": {},
   "outputs": [
    {
     "name": "stdout",
     "output_type": "stream",
     "text": [
      "\n",
      "Resultados en conjunto de entrenamiento:\n",
      "Accuracy: 0.9796\n",
      "Matriz de confusión:\n",
      "[[319   9]\n",
      " [  1 160]]\n",
      "\n",
      "Reporte de clasificación:\n",
      "              precision    recall  f1-score   support\n",
      "\n",
      "           0       1.00      0.97      0.98       328\n",
      "           1       0.95      0.99      0.97       161\n",
      "\n",
      "    accuracy                           0.98       489\n",
      "   macro avg       0.97      0.98      0.98       489\n",
      "weighted avg       0.98      0.98      0.98       489\n",
      "\n"
     ]
    }
   ],
   "source": [
    "\n",
    "# Resultados entrenamiento\n",
    "print(\"\\nresultados en conjunto de entrenamiento:\")\n",
    "print(f'Accuracy: {accuracy(y_train, train_pred):.4f}')\n",
    "print(\"matriz de confusion:\")\n",
    "print(confusion_matrix(y_train, train_pred))\n",
    "print(\"\\nreporte de clasificacion:\")\n",
    "print(classification_report(y_train, train_pred))\n",
    "\n"
   ]
  },
  {
   "cell_type": "code",
   "execution_count": null,
   "id": "bb17a354-bd1a-4b99-b325-d28cb2e5be4c",
   "metadata": {},
   "outputs": [
    {
     "name": "stdout",
     "output_type": "stream",
     "text": [
      "\n",
      "Resultados en conjunto de prueba:\n",
      "Accuracy: 0.9857\n",
      "Matriz de confusión:\n",
      "[[128   2]\n",
      " [  1  79]]\n",
      "\n",
      "Reporte de clasificación:\n",
      "              precision    recall  f1-score   support\n",
      "\n",
      "           0       0.99      0.98      0.99       130\n",
      "           1       0.98      0.99      0.98        80\n",
      "\n",
      "    accuracy                           0.99       210\n",
      "   macro avg       0.98      0.99      0.98       210\n",
      "weighted avg       0.99      0.99      0.99       210\n",
      "\n"
     ]
    }
   ],
   "source": [
    "# Resultados prueba\n",
    "print(\"\\nresultados en conjunto de prueba:\")\n",
    "print(f'Accuracy: {accuracy(y_test, test_pred):.4f}')\n",
    "print(\"matriz de confusion:\")\n",
    "print(confusion_matrix(y_test, test_pred))\n",
    "print(\"\\nreporte de clasificacion:\")\n",
    "print(classification_report(y_test, test_pred))\n",
    "\n"
   ]
  },
  {
   "cell_type": "code",
   "execution_count": null,
   "id": "636d8a8b-0494-42b8-9e1d-c49748fd1bcb",
   "metadata": {},
   "outputs": [
    {
     "data": {
      "image/png": "[encoded data removed]",
      "text/plain": [
       "<Figure size 1000x600 with 1 Axes>"
      ]
     },
     "metadata": {},
     "output_type": "display_data"
    }
   ],
   "source": [
    "\n",
    "# Gráfica de pérdida\n",
    "plt.figure(figsize=(10, 6))\n",
    "plt.plot(loss_history, 'b-', linewidth=2)\n",
    "plt.title('evolución de la perdida durante el entrenamiento')\n",
    "plt.xlabel('epoca')\n",
    "plt.ylabel('perdida (entropia Cruzada)')\n",
    "plt.grid(True)\n",
    "plt.show()"
   ]
  }
 ],
 "metadata": {
  "kernelspec": {
   "display_name": "Python 3 (ipykernel)",
   "language": "python",
   "name": "python3"
  },
  "language_info": {
   "codemirror_mode": {
    "name": "ipython",
    "version": 3
   },
   "file_extension": ".py",
   "mimetype": "text/x-python",
   "name": "python",
   "nbconvert_exporter": "python",
   "pygments_lexer": "ipython3",
   "version": "3.12.7"
  }
 },
 "nbformat": 4,
 "nbformat_minor": 5
}
