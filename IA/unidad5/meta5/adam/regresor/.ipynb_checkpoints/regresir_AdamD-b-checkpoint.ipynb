{
 "cells": [
  {
   "cell_type": "code",
   "execution_count": 1,
   "id": "2b55e4a9-2ffb-4958-9e9a-de5d514727db",
   "metadata": {},
   "outputs": [],
   "source": [
    "import numpy as np\n",
    "import scipy.io as sp\n",
    "from sklearn.model_selection import train_test_split\n",
    "from sklearn.preprocessing import RobustScaler\n",
    "from sklearn.metrics import r2_score\n",
    "from sklearn.metrics import mean_squared_error\n",
    "import matplotlib.pyplot as plt\n",
    "import math \n",
    "\n"
   ]
  },
  {
   "cell_type": "code",
   "execution_count": 2,
   "id": "68dbd427-6054-4d26-b5cb-9b8fa6add5d1",
   "metadata": {},
   "outputs": [],
   "source": [
    "def model(A, THETA):\n",
    "    \"\"\"\n",
    "    Multivariate Linear Regression Model, Yh = A*THETA\n",
    "    The matrix A is sometimes called the design matrix.\n",
    "    \"\"\"\n",
    "    return A.dot(THETA)\n"
   ]
  },
  {
   "cell_type": "code",
   "execution_count": 3,
   "id": "22815822-65dd-4cef-afbb-8ef00cf63348",
   "metadata": {},
   "outputs": [],
   "source": [
    "\n",
    "# Design Matrix\n",
    "def designMatrix(Tau,X):\n",
    "    q,_ = X.shape\n",
    "    for p in range(q):\n",
    "        M = powerVector(Tau,X[p,:])\n",
    "        if p == 0:\n",
    "            A = M\n",
    "            continue\n",
    "        A = np.vstack((A,M))\n",
    "    return A\n",
    "\n",
    "# # power Vector M\n",
    "# def powerVector(Tau, V):\n",
    "#     if V.size == 0 or Tau == 0:\n",
    "#         return np.array([[1.0]])  # Asegurar 2D\n",
    "#     Z = V[:-1]\n",
    "#     W = V[-1]\n",
    "#     terms = []\n",
    "#     for k in range(Tau + 1):\n",
    "#         sub_terms = powerVector(Tau - k, Z)\n",
    "#         for term in sub_terms.flatten():  # manejar sub_terms 2D\n",
    "#             terms.append(term * (W ** k))\n",
    "#     return np.array([terms])  # Devolver como 2D (1, n_terms)\n",
    "\n",
    "def powerVector(Tau, V):\n",
    "    if V.size == 0 or Tau == 0:\n",
    "        return np.array([[1.0]])  # Término constante\n",
    "    \n",
    "    Z = V[:-1]  \n",
    "    W = V[-1]   \n",
    "    terms = []\n",
    "    for k in range(Tau + 1):\n",
    "        sub_terms = powerVector(Tau - k, Z)  \n",
    "        for term in sub_terms.flatten():\n",
    "            terms.append(term * (W ** k)) \n",
    "    return np.array([terms])\n",
    "\n"
   ]
  },
  {
   "cell_type": "code",
   "execution_count": 4,
   "id": "03ab2b80-f811-4242-9d68-dcd7744217ed",
   "metadata": {},
   "outputs": [],
   "source": [
    "#Polynomial parameter number\n",
    "def polyParamsNumber(n, tau):\n",
    "    return int(math.comb(n + tau, tau))\n"
   ]
  },
  {
   "cell_type": "code",
   "execution_count": 5,
   "id": "25e79084-6b5f-4ad5-8b1c-293cba53f37c",
   "metadata": {},
   "outputs": [],
   "source": [
    "\n",
    "def loss(Y_true, Y_pred, THETA, lambda_param):\n",
    "    \"\"\" Mean Squared Error \"\"\"\n",
    "    E = Y_true - Y_pred\n",
    "    SSE = np.square(np.linalg.norm(E, 'fro'))\n",
    "    Reg = (lambda_param/(2*E.shape[0]))*np.square(np.linalg.norm(THETA[1:,:], 'fro'))\n",
    "    MSE = SSE/(2*E.shape[0]) + Reg\n",
    "    return MSE\n"
   ]
  },
  {
   "cell_type": "code",
   "execution_count": 6,
   "id": "b35ba5a8-0b2b-4303-9925-fde4131d4fb4",
   "metadata": {},
   "outputs": [],
   "source": [
    "def gradient(A,E,THETA,lambda_param):\n",
    "    \"\"\" MSE Gradient \"\"\"\n",
    "    SSEGrad = -1.0*(A.T).dot(E)\n",
    "    MSEGrad = SSEGrad/E.shape[0]\n",
    "    MSEGrad[1:,:] = MSEGrad[1:,:] + (lambda_param/E.shape[0])*THETA[1:,:]\n",
    "    return MSEGrad\n"
   ]
  },
  {
   "cell_type": "code",
   "execution_count": 7,
   "id": "5594e4bc-8fcb-4e9f-82a1-5e67bc847229",
   "metadata": {},
   "outputs": [],
   "source": [
    "# AdamD Optimizer\n",
    "def adamd_optimization(\n",
    "    X,\n",
    "    Y,\n",
    "    tau,\n",
    "    lambda_param=0.0,\n",
    "    maxEpochs=100,\n",
    "    show=10,\n",
    "    batch_size=16,\n",
    "    learning_rate=0.001,\n",
    "    beta1=0.9,\n",
    "    beta2=0.999,\n",
    "    epsilon=1e-8,\n",
    "    stopping_threshold=1e-6,\n",
    "):\n",
    "    n = X.shape[1]\n",
    "    m = Y.shape[1]\n",
    "    rho = polyParamsNumber(n, tau)\n",
    "    THETA = np.random.randn(rho, m) * 0.01\n",
    "    q = X.shape[0]\n",
    "    \n",
    "    # Inicializar momentos\n",
    "    m_t = np.zeros_like(THETA)\n",
    "    v_t = np.zeros_like(THETA)\n",
    "    \n",
    "    t = 0\n",
    "    previous_loss = np.inf\n",
    "\n",
    "    for epoch in range(maxEpochs + 1):\n",
    "        THETA_prev = THETA.copy()\n",
    "        current_loss = np.inf\n",
    "\n",
    "        if batch_size < q:\n",
    "            indices = np.random.permutation(q)\n",
    "            X = X[indices, :]\n",
    "            Y = Y[indices, :]\n",
    "\n",
    "        n_batches = q // batch_size\n",
    "        residual = q % batch_size\n",
    "        total_batches = n_batches + 1 if residual != 0 else n_batches\n",
    "\n",
    "        for batch_idx in range(total_batches):\n",
    "            t += 1  # Incrementar timestep\n",
    "            \n",
    "            start = batch_idx * batch_size\n",
    "            end = start + batch_size\n",
    "            if batch_idx == total_batches - 1 and residual != 0:\n",
    "                end = start + residual\n",
    "\n",
    "            X_batch = X[start:end, :]\n",
    "            Y_batch = Y[start:end, :]\n",
    "            A_batch = designMatrix(tau, X_batch)\n",
    "            Y_pred = model(A_batch, THETA)\n",
    "            E_batch = Y_batch - Y_pred\n",
    "            g_t = gradient(A_batch, E_batch, THETA, lambda_param)\n",
    "            \n",
    "            #actualizar momentos\n",
    "            m_t = beta1 * m_t + (1 - beta1) * g_t\n",
    "            v_t = beta2 * v_t + (1 - beta2) * (g_t ** 2)\n",
    "            \n",
    "            # calcular learning rate para este timestep\n",
    "            alpha_t = learning_rate * np.sqrt(1 - beta2 ** t)\n",
    "            \n",
    "            # actualizar parametros\n",
    "            THETA -= alpha_t * m_t / (np.sqrt(v_t) + epsilon)\n",
    "\n",
    "        A = designMatrix(tau, X)\n",
    "        Yh = model(A, THETA)\n",
    "        current_loss = loss(Y, Yh, THETA, lambda_param)\n",
    "\n",
    "        if epoch % show == 0:\n",
    "            print(f\"Epoch {epoch}: Loss={current_loss:.3e}, lr={alpha_t:.2e}\")\n",
    "\n",
    "        if abs(previous_loss - current_loss) < stopping_threshold:\n",
    "            break\n",
    "            \n",
    "        previous_loss = current_loss\n",
    "\n",
    "    return THETA\n",
    "\n"
   ]
  },
  {
   "cell_type": "code",
   "execution_count": 8,
   "id": "948db2bd-e4c7-4bb3-b45c-6ca9bc37d511",
   "metadata": {},
   "outputs": [],
   "source": [
    "# Load dataset\n",
    "mat = sp.loadmat('engine_dataset.mat')\n",
    "inputs  = mat['engineInputs'].T\n",
    "targets = mat['engineTargets'].T\n"
   ]
  },
  {
   "cell_type": "code",
   "execution_count": 9,
   "id": "556aa4e2-4d61-45e8-9d7a-e67ec2ec6da8",
   "metadata": {},
   "outputs": [],
   "source": [
    "\n",
    "inputs_train, inputs_test, targets_train, targets_test = train_test_split(\n",
    "    inputs, targets, random_state=1, test_size=0.4\n",
    ")"
   ]
  },
  {
   "cell_type": "code",
   "execution_count": 10,
   "id": "db8074cc-66cd-43ce-8562-55f1dd9b96ed",
   "metadata": {},
   "outputs": [],
   "source": [
    "\n",
    "input_scaler = RobustScaler()\n",
    "output_scaler = RobustScaler()\n",
    "\n",
    "inputs_train_normalized = input_scaler.fit_transform(inputs_train)\n",
    "targets_train_normalized = output_scaler.fit_transform(targets_train)\n",
    "\n",
    "\n",
    "inputs_test_normalized = input_scaler.transform(inputs_test)\n",
    "targets_test_normalized = output_scaler.transform(targets_test)\n",
    "\n"
   ]
  },
  {
   "cell_type": "code",
   "execution_count": 11,
   "id": "4e3614e1-8b52-43f9-891f-07c4b3faaec1",
   "metadata": {},
   "outputs": [],
   "source": [
    "# Convertir a arrays normalizados\n",
    "xTrain = inputs_train_normalized\n",
    "tTrain = targets_train_normalized\n",
    "xTest = inputs_test_normalized\n",
    "tTest = targets_test_normalized\n",
    "\n"
   ]
  },
  {
   "cell_type": "code",
   "execution_count": 12,
   "id": "a6f52f2b-dc01-4b32-9492-f0cab95787ef",
   "metadata": {},
   "outputs": [
    {
     "name": "stdout",
     "output_type": "stream",
     "text": [
      "Epoch 0: Loss=4.493e-01, lr=3.16e-05\n",
      "Epoch 500: Loss=1.620e-01, lr=6.28e-04\n",
      "Epoch 1000: Loss=6.402e-02, lr=7.95e-04\n",
      "Epoch 1500: Loss=3.553e-02, lr=8.82e-04\n",
      "Epoch 2000: Loss=3.057e-02, lr=9.30e-04\n"
     ]
    }
   ],
   "source": [
    "\n",
    "#mini lote\n",
    "# Find the optimal parameters with AdamD\n",
    "# tau = 2\n",
    "# lambda_param = 0.1\n",
    "\n",
    "# THETA = adamd_optimization(\n",
    "#     xTrain,\n",
    "#     tTrain,\n",
    "#     tau=tau,\n",
    "#     lambda_param=lambda_param,\n",
    "#     maxEpochs=10000,\n",
    "#     show=500,\n",
    "#     batch_size=64,\n",
    "#     learning_rate=0.001,\n",
    "#     beta1=0.9,\n",
    "#     beta2=0.999,\n",
    "#     epsilon=1e-8,\n",
    "#     stopping_threshold=1e-6,\n",
    "# )\n",
    "\n",
    "# tau = 2\n",
    "# lambda_param = 0.1\n",
    "\n",
    "# THETA = adamd_optimization(\n",
    "#     xTrain,\n",
    "#     tTrain,\n",
    "#     tau=tau,\n",
    "#     lambda_param=lambda_param,\n",
    "#     maxEpochs=5000,\n",
    "#     show=500,\n",
    "#     batch_size=1,\n",
    "#     learning_rate=0.001,\n",
    "#     beta1=0.9,\n",
    "#     beta2=0.999,\n",
    "#     epsilon=1e-8,\n",
    "#     stopping_threshold=1e-6,\n",
    "# )\n",
    "\n",
    "tau = 2\n",
    "lambda_param = 0.1\n",
    "\n",
    "THETA = adamd_optimization(\n",
    "    xTrain,\n",
    "    tTrain,\n",
    "    tau=tau,\n",
    "    lambda_param=lambda_param,\n",
    "    maxEpochs=5000,\n",
    "    show=500,\n",
    "    batch_size=len(xTrain),\n",
    "    learning_rate=0.001,\n",
    "    beta1=0.9,\n",
    "    beta2=0.999,\n",
    "    epsilon=1e-8,\n",
    "    stopping_threshold=1e-6,\n",
    ")\n",
    "\n",
    "\n",
    "\n"
   ]
  },
  {
   "cell_type": "code",
   "execution_count": 13,
   "id": "9285adec-4fb5-4b60-b8b6-9b7d30fa9cdb",
   "metadata": {},
   "outputs": [],
   "source": [
    "\n",
    "# Make predictions\n",
    "# Train data\n",
    "A_train = designMatrix(tau,xTrain)\n",
    "outputTrain = model(A_train,THETA)\n",
    "# Test data\n",
    "A_test = designMatrix(tau,xTest)\n",
    "outputTest = model(A_test,THETA)\n",
    "\n"
   ]
  },
  {
   "cell_type": "code",
   "execution_count": 14,
   "id": "d6e29255-481c-40cd-a84f-673180ba977f",
   "metadata": {},
   "outputs": [],
   "source": [
    "# Invertir normalización para obtener predicciones en escala original\n",
    "outputTrain = output_scaler.inverse_transform(outputTrain)\n",
    "outputTest = output_scaler.inverse_transform(outputTest)\n",
    "\n",
    "\n",
    "\n",
    "# Obtener objetivos originales (sin normalizar)\n",
    "tTrain_original = targets_train  # Ya tenemos estos de la división inicial\n",
    "tTest_original = targets_test    # Ya tenemos estos de la división inicial\n"
   ]
  },
  {
   "cell_type": "code",
   "execution_count": 15,
   "id": "39cffe40-00fe-4ceb-93a4-22d3e85b5ca0",
   "metadata": {},
   "outputs": [
    {
     "name": "stdout",
     "output_type": "stream",
     "text": [
      "0.9393667313012334\n"
     ]
    }
   ],
   "source": [
    "\n",
    "# Metrics\n",
    "# Train data\n",
    "R2_train = r2_score(tTrain_original, outputTrain)\n",
    "print(R2_train)\n"
   ]
  },
  {
   "cell_type": "code",
   "execution_count": 16,
   "id": "f1aace78-5c9f-411a-941a-5c48affa8efa",
   "metadata": {},
   "outputs": [
    {
     "name": "stdout",
     "output_type": "stream",
     "text": [
      "12590.29625323632\n"
     ]
    }
   ],
   "source": [
    "MSE_train = mean_squared_error(tTrain_original, outputTrain)\n",
    "print(MSE_train)\n"
   ]
  },
  {
   "cell_type": "code",
   "execution_count": 17,
   "id": "32a214c4-ae80-4bf9-9f2c-bf5dad7ef428",
   "metadata": {},
   "outputs": [
    {
     "name": "stdout",
     "output_type": "stream",
     "text": [
      "0.9490973201716718\n"
     ]
    }
   ],
   "source": [
    "# Test data\n",
    "R2_test = r2_score(tTest_original, outputTest)\n",
    "print(R2_test)\n"
   ]
  },
  {
   "cell_type": "code",
   "execution_count": 18,
   "id": "e2125693-c75e-4396-bc4d-ebd253f04d11",
   "metadata": {},
   "outputs": [
    {
     "name": "stdout",
     "output_type": "stream",
     "text": [
      "12064.092936739908\n"
     ]
    }
   ],
   "source": [
    "\n",
    "MSE_test = mean_squared_error(tTest_original, outputTest)\n",
    "print(MSE_test)\n"
   ]
  },
  {
   "cell_type": "code",
   "execution_count": 19,
   "id": "acdbed08-ea24-4803-8896-5d7cee5706c8",
   "metadata": {},
   "outputs": [
    {
     "data": {
      "text/plain": [
       "array([[ 0.01384425,  0.32816749],\n",
       "       [ 0.9629813 ,  1.05766762],\n",
       "       [-0.04753597, -1.07709777],\n",
       "       [ 0.03195839, -0.22140541],\n",
       "       [ 0.09642981, -0.10781042],\n",
       "       [-0.0500841 , -0.18561584]])"
      ]
     },
     "execution_count": 19,
     "metadata": {},
     "output_type": "execute_result"
    }
   ],
   "source": [
    "THETA"
   ]
  },
  {
   "cell_type": "code",
   "execution_count": null,
   "id": "9177c20c-03ca-43f5-9fda-548b68b26506",
   "metadata": {},
   "outputs": [],
   "source": []
  },
  {
   "cell_type": "code",
   "execution_count": null,
   "id": "9478bdd3-3931-48e0-9993-c61a48421aaa",
   "metadata": {},
   "outputs": [],
   "source": []
  },
  {
   "cell_type": "code",
   "execution_count": null,
   "id": "42b1d23a-7705-48d7-9408-9364487921a9",
   "metadata": {},
   "outputs": [],
   "source": []
  }
 ],
 "metadata": {
  "kernelspec": {
   "display_name": "Python 3 (ipykernel)",
   "language": "python",
   "name": "python3"
  },
  "language_info": {
   "codemirror_mode": {
    "name": "ipython",
    "version": 3
   },
   "file_extension": ".py",
   "mimetype": "text/x-python",
   "name": "python",
   "nbconvert_exporter": "python",
   "pygments_lexer": "ipython3",
   "version": "3.12.7"
  }
 },
 "nbformat": 4,
 "nbformat_minor": 5
}
