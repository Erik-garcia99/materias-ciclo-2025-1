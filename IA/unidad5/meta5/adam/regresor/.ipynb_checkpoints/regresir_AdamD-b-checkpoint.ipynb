{
 "cells": [
  {
   "cell_type": "code",
   "execution_count": 1,
   "id": "2b55e4a9-2ffb-4958-9e9a-de5d514727db",
   "metadata": {},
   "outputs": [],
   "source": [
    "import numpy as np\n",
    "import scipy.io as sp\n",
    "from sklearn.model_selection import train_test_split\n",
    "from sklearn.preprocessing import RobustScaler\n",
    "from sklearn.metrics import r2_score\n",
    "from sklearn.metrics import mean_squared_error\n",
    "import matplotlib.pyplot as plt\n",
    "import math \n",
    "\n"
   ]
  },
  {
   "cell_type": "code",
   "execution_count": 2,
   "id": "68dbd427-6054-4d26-b5cb-9b8fa6add5d1",
   "metadata": {},
   "outputs": [],
   "source": [
    "def model(A, THETA):\n",
    "    \"\"\"\n",
    "    Multivariate Linear Regression Model, Yh = A*THETA\n",
    "    The matrix A is sometimes called the design matrix.\n",
    "    \"\"\"\n",
    "    return A.dot(THETA)\n"
   ]
  },
  {
   "cell_type": "code",
   "execution_count": 3,
   "id": "22815822-65dd-4cef-afbb-8ef00cf63348",
   "metadata": {},
   "outputs": [],
   "source": [
    "\n",
    "# Design Matrix\n",
    "def designMatrix(Tau,X):\n",
    "    q,_ = X.shape\n",
    "    for p in range(q):\n",
    "        M = powerVector(Tau,X[p,:])\n",
    "        if p == 0:\n",
    "            A = M\n",
    "            continue\n",
    "        A = np.vstack((A,M))\n",
    "    return A\n",
    "\n",
    "# Power Vector M\n",
    "def powerVector(Tau, V):\n",
    "    if V.size == 0 or Tau == 0:\n",
    "        return np.array([[1.0]])  # Asegurar 2D\n",
    "    Z = V[:-1]\n",
    "    W = V[-1]\n",
    "    terms = []\n",
    "    for k in range(Tau + 1):\n",
    "        sub_terms = powerVector(Tau - k, Z)\n",
    "        for term in sub_terms.flatten():  # Manejar sub_terms 2D\n",
    "            terms.append(term * (W ** k))\n",
    "    return np.array([terms])  # Devolver como 2D (1, n_terms)\n"
   ]
  },
  {
   "cell_type": "code",
   "execution_count": 4,
   "id": "03ab2b80-f811-4242-9d68-dcd7744217ed",
   "metadata": {},
   "outputs": [],
   "source": [
    "#Polynomial parameter number\n",
    "def polyParamsNumber(n, tau):\n",
    "    return int(math.comb(n + tau, tau))\n"
   ]
  },
  {
   "cell_type": "code",
   "execution_count": 5,
   "id": "25e79084-6b5f-4ad5-8b1c-293cba53f37c",
   "metadata": {},
   "outputs": [],
   "source": [
    "\n",
    "def loss(Y_true, Y_pred, THETA, lambda_param):\n",
    "    \"\"\" Mean Squared Error \"\"\"\n",
    "    E = Y_true - Y_pred\n",
    "    SSE = np.square(np.linalg.norm(E, 'fro'))\n",
    "    Reg = (lambda_param/(2*E.shape[0]))*np.square(np.linalg.norm(THETA[1:,:], 'fro'))\n",
    "    MSE = SSE/(2*E.shape[0]) + Reg\n",
    "    return MSE\n"
   ]
  },
  {
   "cell_type": "code",
   "execution_count": 6,
   "id": "b35ba5a8-0b2b-4303-9925-fde4131d4fb4",
   "metadata": {},
   "outputs": [],
   "source": [
    "def gradient(A,E,THETA,lambda_param):\n",
    "    \"\"\" MSE Gradient \"\"\"\n",
    "    SSEGrad = -1.0*(A.T).dot(E)\n",
    "    MSEGrad = SSEGrad/E.shape[0]\n",
    "    MSEGrad[1:,:] = MSEGrad[1:,:] + (lambda_param/E.shape[0])*THETA[1:,:]\n",
    "    return MSEGrad\n"
   ]
  },
  {
   "cell_type": "code",
   "execution_count": 7,
   "id": "5594e4bc-8fcb-4e9f-82a1-5e67bc847229",
   "metadata": {},
   "outputs": [],
   "source": [
    "# AdamD Optimizer\n",
    "def adamd_optimization(\n",
    "    X,\n",
    "    Y,\n",
    "    tau,\n",
    "    lambda_param=0.0,\n",
    "    maxEpochs=100,\n",
    "    show=10,\n",
    "    batch_size=16,\n",
    "    learning_rate=0.001,\n",
    "    beta1=0.9,\n",
    "    beta2=0.999,\n",
    "    epsilon=1e-8,\n",
    "    stopping_threshold=1e-6,\n",
    "):\n",
    "    \"\"\"Optimizador AdamD según el algoritmo proporcionado\"\"\"\n",
    "    n = X.shape[1]\n",
    "    m = Y.shape[1]\n",
    "    rho = polyParamsNumber(n, tau)\n",
    "    THETA = np.random.randn(rho, m) * 0.01\n",
    "    q = X.shape[0]\n",
    "    \n",
    "    # Inicializar momentos\n",
    "    m_t = np.zeros_like(THETA)\n",
    "    v_t = np.zeros_like(THETA)\n",
    "    \n",
    "    t = 0\n",
    "    previous_loss = np.inf\n",
    "\n",
    "    for epoch in range(maxEpochs + 1):\n",
    "        THETA_prev = THETA.copy()\n",
    "        current_loss = np.inf\n",
    "\n",
    "        if batch_size < q:\n",
    "            indices = np.random.permutation(q)\n",
    "            X = X[indices, :]\n",
    "            Y = Y[indices, :]\n",
    "\n",
    "        n_batches = q // batch_size\n",
    "        residual = q % batch_size\n",
    "        total_batches = n_batches + 1 if residual != 0 else n_batches\n",
    "\n",
    "        for batch_idx in range(total_batches):\n",
    "            t += 1  # Incrementar timestep\n",
    "            \n",
    "            start = batch_idx * batch_size\n",
    "            end = start + batch_size\n",
    "            if batch_idx == total_batches - 1 and residual != 0:\n",
    "                end = start + residual\n",
    "\n",
    "            X_batch = X[start:end, :]\n",
    "            Y_batch = Y[start:end, :]\n",
    "            A_batch = designMatrix(tau, X_batch)\n",
    "            Y_pred = model(A_batch, THETA)\n",
    "            E_batch = Y_batch - Y_pred\n",
    "            g_t = gradient(A_batch, E_batch, THETA, lambda_param)\n",
    "            \n",
    "            # Actualizar momentos\n",
    "            m_t = beta1 * m_t + (1 - beta1) * g_t\n",
    "            v_t = beta2 * v_t + (1 - beta2) * (g_t ** 2)\n",
    "            \n",
    "            # Calcular learning rate para este timestep\n",
    "            alpha_t = learning_rate * np.sqrt(1 - beta2 ** t)\n",
    "            \n",
    "            # Actualizar parámetros\n",
    "            THETA -= alpha_t * m_t / (np.sqrt(v_t) + epsilon)\n",
    "\n",
    "        A = designMatrix(tau, X)\n",
    "        Yh = model(A, THETA)\n",
    "        current_loss = loss(Y, Yh, THETA, lambda_param)\n",
    "\n",
    "        if epoch % show == 0:\n",
    "            print(f\"Epoch {epoch}: Loss={current_loss:.3e}, lr={alpha_t:.2e}\")\n",
    "\n",
    "        if abs(previous_loss - current_loss) < stopping_threshold:\n",
    "            break\n",
    "            \n",
    "        previous_loss = current_loss\n",
    "\n",
    "    return THETA\n",
    "\n"
   ]
  },
  {
   "cell_type": "code",
   "execution_count": 8,
   "id": "948db2bd-e4c7-4bb3-b45c-6ca9bc37d511",
   "metadata": {},
   "outputs": [
    {
     "ename": "FileNotFoundError",
     "evalue": "[Errno 2] No such file or directory: 'engine_dataset.mat.mat'",
     "output_type": "error",
     "traceback": [
      "\u001b[1;31m---------------------------------------------------------------------------\u001b[0m",
      "\u001b[1;31mFileNotFoundError\u001b[0m                         Traceback (most recent call last)",
      "File \u001b[1;32m~\\anaconda3\\Lib\\site-packages\\scipy\\io\\matlab\\_mio.py:39\u001b[0m, in \u001b[0;36m_open_file\u001b[1;34m(file_like, appendmat, mode)\u001b[0m\n\u001b[0;32m     38\u001b[0m \u001b[38;5;28;01mtry\u001b[39;00m:\n\u001b[1;32m---> 39\u001b[0m     \u001b[38;5;28;01mreturn\u001b[39;00m \u001b[38;5;28mopen\u001b[39m(file_like, mode), \u001b[38;5;28;01mTrue\u001b[39;00m\n\u001b[0;32m     40\u001b[0m \u001b[38;5;28;01mexcept\u001b[39;00m \u001b[38;5;167;01mOSError\u001b[39;00m \u001b[38;5;28;01mas\u001b[39;00m e:\n\u001b[0;32m     41\u001b[0m     \u001b[38;5;66;03m# Probably \"not found\"\u001b[39;00m\n",
      "\u001b[1;31mFileNotFoundError\u001b[0m: [Errno 2] No such file or directory: 'engine_dataset.mat.mat'",
      "\nDuring handling of the above exception, another exception occurred:\n",
      "\u001b[1;31mFileNotFoundError\u001b[0m                         Traceback (most recent call last)",
      "Cell \u001b[1;32mIn[8], line 2\u001b[0m\n\u001b[0;32m      1\u001b[0m \u001b[38;5;66;03m# Load dataset\u001b[39;00m\n\u001b[1;32m----> 2\u001b[0m mat \u001b[38;5;241m=\u001b[39m sp\u001b[38;5;241m.\u001b[39mloadmat(\u001b[38;5;124m'\u001b[39m\u001b[38;5;124mengine_dataset.mat.mat\u001b[39m\u001b[38;5;124m'\u001b[39m)\n\u001b[0;32m      3\u001b[0m inputs  \u001b[38;5;241m=\u001b[39m mat[\u001b[38;5;124m'\u001b[39m\u001b[38;5;124mengineInputs\u001b[39m\u001b[38;5;124m'\u001b[39m]\u001b[38;5;241m.\u001b[39mT\n\u001b[0;32m      4\u001b[0m targets \u001b[38;5;241m=\u001b[39m mat[\u001b[38;5;124m'\u001b[39m\u001b[38;5;124mengineTargets\u001b[39m\u001b[38;5;124m'\u001b[39m]\u001b[38;5;241m.\u001b[39mT\n",
      "File \u001b[1;32m~\\anaconda3\\Lib\\site-packages\\scipy\\io\\matlab\\_mio.py:225\u001b[0m, in \u001b[0;36mloadmat\u001b[1;34m(file_name, mdict, appendmat, **kwargs)\u001b[0m\n\u001b[0;32m     88\u001b[0m \u001b[38;5;250m\u001b[39m\u001b[38;5;124;03m\"\"\"\u001b[39;00m\n\u001b[0;32m     89\u001b[0m \u001b[38;5;124;03mLoad MATLAB file.\u001b[39;00m\n\u001b[0;32m     90\u001b[0m \n\u001b[1;32m   (...)\u001b[0m\n\u001b[0;32m    222\u001b[0m \u001b[38;5;124;03m    3.14159265+3.14159265j])\u001b[39;00m\n\u001b[0;32m    223\u001b[0m \u001b[38;5;124;03m\"\"\"\u001b[39;00m\n\u001b[0;32m    224\u001b[0m variable_names \u001b[38;5;241m=\u001b[39m kwargs\u001b[38;5;241m.\u001b[39mpop(\u001b[38;5;124m'\u001b[39m\u001b[38;5;124mvariable_names\u001b[39m\u001b[38;5;124m'\u001b[39m, \u001b[38;5;28;01mNone\u001b[39;00m)\n\u001b[1;32m--> 225\u001b[0m \u001b[38;5;28;01mwith\u001b[39;00m _open_file_context(file_name, appendmat) \u001b[38;5;28;01mas\u001b[39;00m f:\n\u001b[0;32m    226\u001b[0m     MR, _ \u001b[38;5;241m=\u001b[39m mat_reader_factory(f, \u001b[38;5;241m*\u001b[39m\u001b[38;5;241m*\u001b[39mkwargs)\n\u001b[0;32m    227\u001b[0m     matfile_dict \u001b[38;5;241m=\u001b[39m MR\u001b[38;5;241m.\u001b[39mget_variables(variable_names)\n",
      "File \u001b[1;32m~\\anaconda3\\Lib\\contextlib.py:137\u001b[0m, in \u001b[0;36m_GeneratorContextManager.__enter__\u001b[1;34m(self)\u001b[0m\n\u001b[0;32m    135\u001b[0m \u001b[38;5;28;01mdel\u001b[39;00m \u001b[38;5;28mself\u001b[39m\u001b[38;5;241m.\u001b[39margs, \u001b[38;5;28mself\u001b[39m\u001b[38;5;241m.\u001b[39mkwds, \u001b[38;5;28mself\u001b[39m\u001b[38;5;241m.\u001b[39mfunc\n\u001b[0;32m    136\u001b[0m \u001b[38;5;28;01mtry\u001b[39;00m:\n\u001b[1;32m--> 137\u001b[0m     \u001b[38;5;28;01mreturn\u001b[39;00m \u001b[38;5;28mnext\u001b[39m(\u001b[38;5;28mself\u001b[39m\u001b[38;5;241m.\u001b[39mgen)\n\u001b[0;32m    138\u001b[0m \u001b[38;5;28;01mexcept\u001b[39;00m \u001b[38;5;167;01mStopIteration\u001b[39;00m:\n\u001b[0;32m    139\u001b[0m     \u001b[38;5;28;01mraise\u001b[39;00m \u001b[38;5;167;01mRuntimeError\u001b[39;00m(\u001b[38;5;124m\"\u001b[39m\u001b[38;5;124mgenerator didn\u001b[39m\u001b[38;5;124m'\u001b[39m\u001b[38;5;124mt yield\u001b[39m\u001b[38;5;124m\"\u001b[39m) \u001b[38;5;28;01mfrom\u001b[39;00m \u001b[38;5;28;01mNone\u001b[39;00m\n",
      "File \u001b[1;32m~\\anaconda3\\Lib\\site-packages\\scipy\\io\\matlab\\_mio.py:17\u001b[0m, in \u001b[0;36m_open_file_context\u001b[1;34m(file_like, appendmat, mode)\u001b[0m\n\u001b[0;32m     15\u001b[0m \u001b[38;5;129m@contextmanager\u001b[39m\n\u001b[0;32m     16\u001b[0m \u001b[38;5;28;01mdef\u001b[39;00m \u001b[38;5;21m_open_file_context\u001b[39m(file_like, appendmat, mode\u001b[38;5;241m=\u001b[39m\u001b[38;5;124m'\u001b[39m\u001b[38;5;124mrb\u001b[39m\u001b[38;5;124m'\u001b[39m):\n\u001b[1;32m---> 17\u001b[0m     f, opened \u001b[38;5;241m=\u001b[39m _open_file(file_like, appendmat, mode)\n\u001b[0;32m     18\u001b[0m     \u001b[38;5;28;01mtry\u001b[39;00m:\n\u001b[0;32m     19\u001b[0m         \u001b[38;5;28;01myield\u001b[39;00m f\n",
      "File \u001b[1;32m~\\anaconda3\\Lib\\site-packages\\scipy\\io\\matlab\\_mio.py:45\u001b[0m, in \u001b[0;36m_open_file\u001b[1;34m(file_like, appendmat, mode)\u001b[0m\n\u001b[0;32m     43\u001b[0m     \u001b[38;5;28;01mif\u001b[39;00m appendmat \u001b[38;5;129;01mand\u001b[39;00m \u001b[38;5;129;01mnot\u001b[39;00m file_like\u001b[38;5;241m.\u001b[39mendswith(\u001b[38;5;124m'\u001b[39m\u001b[38;5;124m.mat\u001b[39m\u001b[38;5;124m'\u001b[39m):\n\u001b[0;32m     44\u001b[0m         file_like \u001b[38;5;241m+\u001b[39m\u001b[38;5;241m=\u001b[39m \u001b[38;5;124m'\u001b[39m\u001b[38;5;124m.mat\u001b[39m\u001b[38;5;124m'\u001b[39m\n\u001b[1;32m---> 45\u001b[0m     \u001b[38;5;28;01mreturn\u001b[39;00m \u001b[38;5;28mopen\u001b[39m(file_like, mode), \u001b[38;5;28;01mTrue\u001b[39;00m\n\u001b[0;32m     46\u001b[0m \u001b[38;5;28;01melse\u001b[39;00m:\n\u001b[0;32m     47\u001b[0m     \u001b[38;5;28;01mraise\u001b[39;00m \u001b[38;5;167;01mOSError\u001b[39;00m(\n\u001b[0;32m     48\u001b[0m         \u001b[38;5;124m'\u001b[39m\u001b[38;5;124mReader needs file name or open file-like object\u001b[39m\u001b[38;5;124m'\u001b[39m\n\u001b[0;32m     49\u001b[0m     ) \u001b[38;5;28;01mfrom\u001b[39;00m \u001b[38;5;21;01me\u001b[39;00m\n",
      "\u001b[1;31mFileNotFoundError\u001b[0m: [Errno 2] No such file or directory: 'engine_dataset.mat.mat'"
     ]
    }
   ],
   "source": [
    "# Load dataset\n",
    "mat = sp.loadmat('engine_dataset.mat')\n",
    "inputs  = mat['engineInputs'].T\n",
    "targets = mat['engineTargets'].T\n"
   ]
  },
  {
   "cell_type": "code",
   "execution_count": null,
   "id": "556aa4e2-4d61-45e8-9d7a-e67ec2ec6da8",
   "metadata": {},
   "outputs": [],
   "source": [
    "\n",
    "inputs_train, inputs_test, targets_train, targets_test = train_test_split(\n",
    "    inputs, targets, random_state=1, test_size=0.4\n",
    ")"
   ]
  },
  {
   "cell_type": "code",
   "execution_count": null,
   "id": "db8074cc-66cd-43ce-8562-55f1dd9b96ed",
   "metadata": {},
   "outputs": [],
   "source": [
    "# 2. SEGUNDO: Normalizar los datos\n",
    "input_scaler = RobustScaler()\n",
    "output_scaler = RobustScaler()\n",
    "\n",
    "# Ajustar y transformar datos de entrenamiento\n",
    "inputs_train_normalized = input_scaler.fit_transform(inputs_train)\n",
    "targets_train_normalized = output_scaler.fit_transform(targets_train)\n",
    "\n",
    "# Transformar datos de prueba (usando parámetros de entrenamiento)\n",
    "inputs_test_normalized = input_scaler.transform(inputs_test)\n",
    "targets_test_normalized = output_scaler.transform(targets_test)\n",
    "\n"
   ]
  },
  {
   "cell_type": "code",
   "execution_count": null,
   "id": "4e3614e1-8b52-43f9-891f-07c4b3faaec1",
   "metadata": {},
   "outputs": [],
   "source": [
    "# Convertir a arrays normalizados\n",
    "xTrain = inputs_train_normalized\n",
    "tTrain = targets_train_normalized\n",
    "xTest = inputs_test_normalized\n",
    "tTest = targets_test_normalized\n",
    "\n"
   ]
  },
  {
   "cell_type": "code",
   "execution_count": null,
   "id": "a6f52f2b-dc01-4b32-9492-f0cab95787ef",
   "metadata": {},
   "outputs": [],
   "source": [
    "\n",
    "#mini lote\n",
    "# Find the optimal parameters with AdamD\n",
    "tau = 1\n",
    "lambda_param = 0.1\n",
    "\n",
    "THETA = adamd_optimization(\n",
    "    xTrain,\n",
    "    tTrain,\n",
    "    tau=tau,\n",
    "    lambda_param=lambda_param,\n",
    "    maxEpochs=10000,\n",
    "    show=500,\n",
    "    batch_size=64,\n",
    "    learning_rate=0.001,\n",
    "    beta1=0.9,\n",
    "    beta2=0.999,\n",
    "    epsilon=1e-8,\n",
    "    stopping_threshold=1e-6,\n",
    ")\n"
   ]
  },
  {
   "cell_type": "code",
   "execution_count": null,
   "id": "9285adec-4fb5-4b60-b8b6-9b7d30fa9cdb",
   "metadata": {},
   "outputs": [],
   "source": [
    "\n",
    "# Make predictions\n",
    "# Train data\n",
    "A_train = designMatrix(tau,xTrain)\n",
    "outputTrain = model(A_train,THETA)\n",
    "# Test data\n",
    "A_test = designMatrix(tau,xTest)\n",
    "outputTest = model(A_test,THETA)\n",
    "\n"
   ]
  },
  {
   "cell_type": "code",
   "execution_count": null,
   "id": "d6e29255-481c-40cd-a84f-673180ba977f",
   "metadata": {},
   "outputs": [],
   "source": [
    "# Invertir normalización para obtener predicciones en escala original\n",
    "outputTrain = output_scaler.inverse_transform(outputTrain)\n",
    "outputTest = output_scaler.inverse_transform(outputTest)\n",
    "\n",
    "\n",
    "\n",
    "# Obtener objetivos originales (sin normalizar)\n",
    "tTrain_original = targets_train  # Ya tenemos estos de la división inicial\n",
    "tTest_original = targets_test    # Ya tenemos estos de la división inicial\n"
   ]
  },
  {
   "cell_type": "code",
   "execution_count": null,
   "id": "39cffe40-00fe-4ceb-93a4-22d3e85b5ca0",
   "metadata": {},
   "outputs": [],
   "source": [
    "\n",
    "# Metrics\n",
    "# Train data\n",
    "R2_train = r2_score(tTrain_original, outputTrain)\n",
    "print(f\"Train R²: {R2_train:.6f}\")\n",
    "\n"
   ]
  },
  {
   "cell_type": "code",
   "execution_count": null,
   "id": "f1aace78-5c9f-411a-941a-5c48affa8efa",
   "metadata": {},
   "outputs": [],
   "source": [
    "MSE_train = mean_squared_error(tTrain_original, outputTrain)\n",
    "print(f\"Train MSE: {MSE_train:.6f}\")\n"
   ]
  },
  {
   "cell_type": "code",
   "execution_count": null,
   "id": "32a214c4-ae80-4bf9-9f2c-bf5dad7ef428",
   "metadata": {},
   "outputs": [],
   "source": [
    "# Test data\n",
    "R2_test = r2_score(tTest_original, outputTest)\n",
    "print(f\"Test R²: {R2_test:.6f}\")\n"
   ]
  },
  {
   "cell_type": "code",
   "execution_count": null,
   "id": "e2125693-c75e-4396-bc4d-ebd253f04d11",
   "metadata": {},
   "outputs": [],
   "source": [
    "\n",
    "MSE_test = mean_squared_error(tTest_original, outputTest)\n",
    "print(f\"Test MSE: {MSE_test:.6f}\")\n"
   ]
  },
  {
   "cell_type": "code",
   "execution_count": null,
   "id": "acdbed08-ea24-4803-8896-5d7cee5706c8",
   "metadata": {},
   "outputs": [],
   "source": [
    "THETA"
   ]
  },
  {
   "cell_type": "code",
   "execution_count": null,
   "id": "9177c20c-03ca-43f5-9fda-548b68b26506",
   "metadata": {},
   "outputs": [],
   "source": []
  },
  {
   "cell_type": "code",
   "execution_count": null,
   "id": "9478bdd3-3931-48e0-9993-c61a48421aaa",
   "metadata": {},
   "outputs": [],
   "source": []
  },
  {
   "cell_type": "code",
   "execution_count": null,
   "id": "42b1d23a-7705-48d7-9408-9364487921a9",
   "metadata": {},
   "outputs": [],
   "source": []
  }
 ],
 "metadata": {
  "kernelspec": {
   "display_name": "Python 3 (ipykernel)",
   "language": "python",
   "name": "python3"
  },
  "language_info": {
   "codemirror_mode": {
    "name": "ipython",
    "version": 3
   },
   "file_extension": ".py",
   "mimetype": "text/x-python",
   "name": "python",
   "nbconvert_exporter": "python",
   "pygments_lexer": "ipython3",
   "version": "3.12.7"
  }
 },
 "nbformat": 4,
 "nbformat_minor": 5
}
