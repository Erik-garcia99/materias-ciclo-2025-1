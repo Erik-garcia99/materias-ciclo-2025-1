{
 "cells": [
  {
   "cell_type": "code",
   "execution_count": 1,
   "id": "0f1b34f6",
   "metadata": {
    "executionInfo": {
     "elapsed": 3683,
     "status": "ok",
     "timestamp": 1748147385616,
     "user": {
      "displayName": "erik garcia chavez",
      "userId": "03953579049831948798"
     },
     "user_tz": 420
    },
    "id": "0f1b34f6",
    "vscode": {
     "languageId": "plaintext"
    }
   },
   "outputs": [],
   "source": [
    "import numpy as np\n",
    "import scipy.io as sp\n",
    "from sklearn.model_selection import train_test_split\n",
    "from sklearn.preprocessing import RobustScaler\n",
    "from sklearn.metrics import r2_score\n",
    "from sklearn.metrics import mean_squared_error\n",
    "import math\n"
   ]
  },
  {
   "cell_type": "code",
   "execution_count": 2,
   "id": "6c30f315-e5b3-4121-bece-e4b1edca2833",
   "metadata": {},
   "outputs": [],
   "source": [
    "#modificacion \n",
    "\n",
    "# Normalización y división de datos\n",
    "def normalize_and_split_data(inputs, targets):\n",
    "    scaler_X = RobustScaler()\n",
    "    scaler_y = RobustScaler()\n",
    "    inputs = scaler_X.fit_transform(inputs)\n",
    "    targets = scaler_y.fit_transform(targets)\n",
    "    inputs_train, inputs_test, targets_train, targets_test = train_test_split(inputs, targets, random_state=1, test_size=0.4)\n",
    "    return inputs_train, inputs_test, targets_train, targets_test, scaler_X, scaler_y\n",
    "\n"
   ]
  },
  {
   "cell_type": "code",
   "execution_count": 3,
   "id": "XABehibascYc",
   "metadata": {
    "executionInfo": {
     "elapsed": 27,
     "status": "ok",
     "timestamp": 1748147385632,
     "user": {
      "displayName": "erik garcia chavez",
      "userId": "03953579049831948798"
     },
     "user_tz": 420
    },
    "id": "XABehibascYc"
   },
   "outputs": [],
   "source": [
    "\n",
    "def model(A, THETA):\n",
    "    \"\"\"\n",
    "    Multivariate Linear Regression Model, Yh = A*THETA\n",
    "    The matrix A is sometimes called the design matrix.\n",
    "    \"\"\"\n",
    "    return A.dot(THETA)"
   ]
  },
  {
   "cell_type": "code",
   "execution_count": 4,
   "id": "lWJGrBowsclT",
   "metadata": {
    "executionInfo": {
     "elapsed": 38,
     "status": "ok",
     "timestamp": 1748147385668,
     "user": {
      "displayName": "erik garcia chavez",
      "userId": "03953579049831948798"
     },
     "user_tz": 420
    },
    "id": "lWJGrBowsclT"
   },
   "outputs": [],
   "source": [
    "# Design Matrix\n",
    "def designMatrix(Tau,X):\n",
    "    q,_ = X.shape\n",
    "    for p in range(q):\n",
    "        M = powerVector(Tau,X[p,:])\n",
    "        if p == 0:\n",
    "            A = M\n",
    "            continue\n",
    "        A = np.vstack((A,M))\n",
    "    return A\n",
    "\n",
    "# Power Vector M\n",
    "# def powerVector(Tau, V):\n",
    "#     if V.size == 0 or Tau == 0:\n",
    "#         return np.array([1.0])\n",
    "#     Z = V[:-1]\n",
    "#     W = V[-1]\n",
    "#     terms = []\n",
    "#     for k in range(Tau + 1):\n",
    "#         sub_terms = powerVector(Tau - k, Z)\n",
    "#         for term in sub_terms:\n",
    "#             terms.append(term * (W ** k))\n",
    "#     return np.array(terms)\n",
    "\n",
    "def powerVector(Tau, V):\n",
    "    if V.size == 0 or Tau == 0:\n",
    "        return np.array([[1.0]])  # Asegurar 2D\n",
    "    Z = V[:-1]\n",
    "    W = V[-1]\n",
    "    terms = []\n",
    "    for k in range(Tau + 1):\n",
    "        sub_terms = powerVector(Tau - k, Z)\n",
    "        for term in sub_terms.flatten():  # Manejar sub_terms 2D\n",
    "            terms.append(term * (W ** k))\n",
    "    return np.array([terms])  # Devolver como 2D (1, n_terms)\n"
   ]
  },
  {
   "cell_type": "code",
   "execution_count": 5,
   "id": "YGbcmuDtsc4T",
   "metadata": {
    "executionInfo": {
     "elapsed": 26,
     "status": "ok",
     "timestamp": 1748147385705,
     "user": {
      "displayName": "erik garcia chavez",
      "userId": "03953579049831948798"
     },
     "user_tz": 420
    },
    "id": "YGbcmuDtsc4T"
   },
   "outputs": [],
   "source": [
    "#Polynomial parameter number\n",
    "# def polyParamsNumber(n,tau):\n",
    "#     s = 0\n",
    "#     for l in range(tau+1):\n",
    "#         #val = np.math.factorial(l+n-1)/np.math.factorial(n-1)\n",
    "#         val = math.factorial(l + n - 1) / (math.factorial(n - 1) * math.factorial(l))\n",
    "#         val = val/np.math.factorial(l)\n",
    "#         s = s + val\n",
    "#     return int(s)\n",
    "\n",
    "\n",
    "# def polyParamsNumber(n,tau):\n",
    "#     s = 0\n",
    "#     for l in range(tau+1):\n",
    "#         val = math.factorial(l + n - 1) / (math.factorial(n - 1) * math.factorial(l))\n",
    "#         val = val / math.factorial(l)  # Usar math en lugar de np.math\n",
    "#         s += val\n",
    "#     return int(s)\n",
    "\n",
    "def polyParamsNumber(n, tau):\n",
    "    return int(math.comb(n + tau, tau))\n"
   ]
  },
  {
   "cell_type": "code",
   "execution_count": 6,
   "id": "FsPxcGEdsdAX",
   "metadata": {
    "executionInfo": {
     "elapsed": 5,
     "status": "ok",
     "timestamp": 1748147385755,
     "user": {
      "displayName": "erik garcia chavez",
      "userId": "03953579049831948798"
     },
     "user_tz": 420
    },
    "id": "FsPxcGEdsdAX"
   },
   "outputs": [],
   "source": [
    "\n",
    "def loss(Y_true, Y_pred, THETA, lambda_param):\n",
    "    \"\"\" Mean Squared Error \"\"\"\n",
    "    E = Y_true - Y_pred\n",
    "    SSE = np.square(np.linalg.norm(E, 'fro'))\n",
    "    Reg = (lambda_param/(2*E.shape[0]))*np.square(np.linalg.norm(THETA[1:,:], 'fro'))\n",
    "    MSE = SSE/(2*E.shape[0]) + Reg\n",
    "    return MSE"
   ]
  },
  {
   "cell_type": "code",
   "execution_count": 7,
   "id": "7TKopYRVsdGt",
   "metadata": {
    "executionInfo": {
     "elapsed": 41,
     "status": "ok",
     "timestamp": 1748147385859,
     "user": {
      "displayName": "erik garcia chavez",
      "userId": "03953579049831948798"
     },
     "user_tz": 420
    },
    "id": "7TKopYRVsdGt"
   },
   "outputs": [],
   "source": [
    "\n",
    "def gradient(A,E,THETA,lambda_param):\n",
    "    \"\"\" MSE Gradient \"\"\"\n",
    "    SSEGrad = -1.0*(A.T).dot(E)\n",
    "    MSEGrad = SSEGrad/E.shape[0]\n",
    "    MSEGrad[1:,:] = MSEGrad[1:,:] + (lambda_param/E.shape[0])*THETA[1:,:]\n",
    "    return MSEGrad\n",
    "\n"
   ]
  },
  {
   "cell_type": "code",
   "execution_count": 8,
   "id": "HlhovD03sdME",
   "metadata": {
    "executionInfo": {
     "elapsed": 18,
     "status": "ok",
     "timestamp": 1748147385886,
     "user": {
      "displayName": "erik garcia chavez",
      "userId": "03953579049831948798"
     },
     "user_tz": 420
    },
    "id": "HlhovD03sdME"
   },
   "outputs": [],
   "source": [
    "def gdx_optimization(\n",
    "    X,\n",
    "    Y,\n",
    "    tau,\n",
    "    lambda_param=0.0,\n",
    "    maxEpochs=100,\n",
    "    show=10,\n",
    "    batch_size=16,\n",
    "    learning_rate=0.01,\n",
    "    momentum=0.9,\n",
    "    lr_dec=0.5,\n",
    "    lr_inc=1.05,\n",
    "    max_perf_inc=1.04,\n",
    "    stopping_threshold=1e-6,\n",
    "):\n",
    "    \"\"\"Optimizador GDX con manejo de tamaño de lote variable\"\"\"\n",
    "    n = X.shape[1]\n",
    "    m = Y.shape[1]\n",
    "    rho = polyParamsNumber(n, tau)\n",
    "    #rho me esta dando porbelmas \n",
    "    THETA = np.random.randn(rho, m) *0.01 #reduce la escala de la inicalizaciones de los pesos\n",
    "    delta_THETA = np.zeros((rho, m))\n",
    "    lr = learning_rate\n",
    "    q = X.shape[0]\n",
    "    previous_loss = np.inf\n",
    "\n",
    "    for epoch in range(maxEpochs + 1):\n",
    "        THETA_prev = THETA.copy()\n",
    "        current_loss = np.inf\n",
    "\n",
    "        if batch_size < q:\n",
    "            indices = np.random.permutation(q)\n",
    "            X = X[indices, :]\n",
    "            Y = Y[indices, :]\n",
    "\n",
    "        n_batches = q // batch_size\n",
    "        residual = q % batch_size\n",
    "        total_batches = n_batches + 1 if residual != 0 else n_batches\n",
    "\n",
    "        for batch_idx in range(total_batches):\n",
    "            start = batch_idx * batch_size\n",
    "            end = start + batch_size\n",
    "            if batch_idx == total_batches - 1 and residual != 0:\n",
    "                end = start + residual\n",
    "\n",
    "            X_batch = X[start:end, :]\n",
    "            Y_batch = Y[start:end, :]\n",
    "            # A_batch = designMatrix(tau, X_batch)\n",
    "            # Y_pred = model(A_batch, THETA)\n",
    "            # E_batch = Y_batch - Y_pred\n",
    "\n",
    "            A_batch = designMatrix(tau, X_batch)  # (batch_size, rho)\n",
    "            Y_pred = model(A_batch, THETA)  # (batch_size, m)\n",
    "            E_batch = Y_batch - Y_pred  # (batch_size, m)\n",
    "            Grad = gradient(A_batch, E_batch, THETA, lambda_param)\n",
    "            #evitar desbordamienteos \n",
    "            Grad = np.clip(Grad, -1e3, 1e3)\n",
    "            delta_THETA = momentum * delta_THETA - (1 - momentum) * lr * Grad\n",
    "            THETA += delta_THETA\n",
    "\n",
    "        A = designMatrix(tau, X)\n",
    "        Yh = model(A, THETA)\n",
    "        current_loss = loss(Y, Yh, THETA, lambda_param)\n",
    "\n",
    "        if current_loss > previous_loss * max_perf_inc:\n",
    "            THETA = THETA_prev\n",
    "            lr *= lr_dec\n",
    "        elif current_loss < previous_loss:\n",
    "            lr *= lr_inc\n",
    "\n",
    "        if epoch % show == 0:\n",
    "            print(f\"Epoch {epoch}: Loss={current_loss:.3e}, lr={lr:.2e}\")\n",
    "        if abs(previous_loss - current_loss) < stopping_threshold:\n",
    "            break\n",
    "        previous_loss = current_loss\n",
    "\n",
    "    return THETA\n"
   ]
  },
  {
   "cell_type": "code",
   "execution_count": 9,
   "id": "a4-A9rkMsdQU",
   "metadata": {
    "colab": {
     "base_uri": "https://localhost:8080/",
     "height": 443
    },
    "executionInfo": {
     "elapsed": 349,
     "status": "error",
     "timestamp": 1748147386247,
     "user": {
      "displayName": "erik garcia chavez",
      "userId": "03953579049831948798"
     },
     "user_tz": 420
    },
    "id": "a4-A9rkMsdQU",
    "outputId": "5ecd3e0c-b9f0-44d9-dddd-657841d621ec"
   },
   "outputs": [],
   "source": [
    "# Load dataset\n",
    "mat = sp.loadmat('engine_dataset.mat')\n",
    "#print(mat.keys())\n",
    "inputs  = mat['engineInputs'].T\n",
    "targets = mat['engineTargets'].T\n"
   ]
  },
  {
   "cell_type": "code",
   "execution_count": 10,
   "id": "fdc9c0bb-b4d6-40b0-9130-da285e13b4f2",
   "metadata": {},
   "outputs": [],
   "source": [
    "# Train and Test Split Data modificacion\n",
    "#inputs_train, inputs_test, targets_train, targets_test = train_test_split(inputs, targets, random_state=1, test_size=0.4)\n",
    "inputs_train, inputs_test, targets_train, targets_test, scaler_X, scaler_y = normalize_and_split_data(inputs, targets)\n"
   ]
  },
  {
   "cell_type": "code",
   "execution_count": 11,
   "id": "4RLAPA5DsdYo",
   "metadata": {
    "executionInfo": {
     "elapsed": 5530,
     "status": "aborted",
     "timestamp": 1748147386478,
     "user": {
      "displayName": "erik garcia chavez",
      "userId": "03953579049831948798"
     },
     "user_tz": 420
    },
    "id": "4RLAPA5DsdYo"
   },
   "outputs": [],
   "source": [
    "\n",
    "# Train and Test Data\n",
    "# Train Data\n",
    "xTrain = inputs_train\n",
    "tTrain = targets_train\n",
    "# Test Data\n",
    "xTest = inputs_test\n",
    "tTest = targets_test\n"
   ]
  },
  {
   "cell_type": "code",
   "execution_count": 12,
   "id": "PlljZiaqsdbR",
   "metadata": {
    "executionInfo": {
     "elapsed": 5534,
     "status": "aborted",
     "timestamp": 1748147386482,
     "user": {
      "displayName": "erik garcia chavez",
      "userId": "03953579049831948798"
     },
     "user_tz": 420
    },
    "id": "PlljZiaqsdbR"
   },
   "outputs": [
    {
     "name": "stdout",
     "output_type": "stream",
     "text": [
      "Epoch 0: Loss=4.070e-01, lr=1.05e-03\n",
      "Epoch 100: Loss=1.020e-01, lr=7.32e-02\n",
      "Epoch 200: Loss=1.040e-01, lr=7.25e-01\n",
      "Epoch 300: Loss=1.030e-01, lr=5.46e-01\n",
      "Epoch 400: Loss=1.021e-01, lr=4.11e-01\n",
      "Epoch 500: Loss=1.026e-01, lr=5.09e-01\n",
      "Epoch 600: Loss=1.021e-01, lr=4.22e-01\n",
      "Epoch 700: Loss=1.023e-01, lr=3.33e-01\n",
      "Epoch 800: Loss=1.026e-01, lr=4.55e-01\n",
      "Epoch 900: Loss=1.036e-01, lr=6.85e-01\n",
      "Epoch 1000: Loss=1.022e-01, lr=4.91e-01\n",
      "Epoch 1100: Loss=1.032e-01, lr=7.04e-01\n",
      "Epoch 1200: Loss=1.037e-01, lr=8.30e-01\n",
      "Epoch 1300: Loss=1.031e-01, lr=5.67e-01\n",
      "Epoch 1400: Loss=1.024e-01, lr=8.12e-01\n",
      "Epoch 1500: Loss=1.021e-01, lr=5.28e-01\n",
      "Epoch 1600: Loss=1.023e-01, lr=3.11e-01\n",
      "Epoch 1700: Loss=1.030e-01, lr=8.93e-01\n",
      "Epoch 1800: Loss=1.023e-01, lr=5.53e-01\n",
      "Epoch 1900: Loss=1.052e-01, lr=4.58e-01\n",
      "Epoch 2000: Loss=1.048e-01, lr=6.26e-01\n",
      "Epoch 2100: Loss=1.026e-01, lr=9.42e-01\n",
      "Epoch 2200: Loss=1.057e-01, lr=7.09e-01\n",
      "Epoch 2300: Loss=1.032e-01, lr=7.96e-01\n",
      "Epoch 2400: Loss=1.040e-01, lr=8.52e-01\n",
      "Epoch 2500: Loss=1.036e-01, lr=6.10e-01\n",
      "Epoch 2600: Loss=1.033e-01, lr=8.33e-01\n",
      "Epoch 2700: Loss=1.033e-01, lr=1.08e+00\n",
      "Epoch 2800: Loss=1.039e-01, lr=6.71e-01\n",
      "Epoch 2900: Loss=1.024e-01, lr=4.36e-01\n",
      "Epoch 3000: Loss=1.035e-01, lr=3.45e-01\n",
      "Epoch 3100: Loss=1.025e-01, lr=4.94e-01\n",
      "Epoch 3200: Loss=1.022e-01, lr=6.12e-01\n",
      "Epoch 3300: Loss=1.021e-01, lr=4.38e-01\n",
      "Epoch 3400: Loss=1.021e-01, lr=3.14e-01\n",
      "Epoch 3500: Loss=1.022e-01, lr=4.73e-01\n",
      "Epoch 3600: Loss=1.043e-01, lr=7.12e-01\n",
      "Epoch 3700: Loss=1.022e-01, lr=4.00e-01\n",
      "Epoch 3800: Loss=1.024e-01, lr=4.49e-01\n",
      "Epoch 3900: Loss=1.031e-01, lr=6.43e-01\n",
      "Epoch 4000: Loss=1.035e-01, lr=1.02e+00\n",
      "Epoch 4100: Loss=1.022e-01, lr=3.31e-01\n",
      "Epoch 4200: Loss=1.042e-01, lr=8.18e-01\n",
      "Epoch 4300: Loss=1.035e-01, lr=1.06e+00\n",
      "Epoch 4400: Loss=1.026e-01, lr=6.92e-01\n",
      "Epoch 4500: Loss=1.042e-01, lr=4.96e-01\n",
      "Epoch 4600: Loss=1.022e-01, lr=3.73e-01\n",
      "Epoch 4700: Loss=1.026e-01, lr=4.85e-01\n",
      "Epoch 4800: Loss=1.027e-01, lr=6.95e-01\n",
      "Epoch 4900: Loss=1.025e-01, lr=4.98e-01\n",
      "Epoch 5000: Loss=1.021e-01, lr=5.88e-01\n"
     ]
    }
   ],
   "source": [
    "# mini batch\n",
    "# Find the optimal parameters m and b with RMSprop\n",
    "tau = 1\n",
    "lambda_param = 0.01\n",
    "\n",
    "THETA = gdx_optimization(\n",
    "    xTrain,\n",
    "    tTrain,\n",
    "    tau=tau,\n",
    "    lambda_param=lambda_param,\n",
    "    maxEpochs=5000,\n",
    "    show=100,\n",
    "    batch_size=32,\n",
    "    learning_rate=1e-3,\n",
    "    momentum=0.9,          \n",
    "    lr_dec=0.5,           \n",
    "    lr_inc=1.05,\n",
    "    max_perf_inc=1.04,\n",
    "    stopping_threshold=1e-8,\n",
    ")\n",
    "\n"
   ]
  },
  {
   "cell_type": "code",
   "execution_count": 13,
   "id": "-kMv6ilMswX7",
   "metadata": {
    "executionInfo": {
     "elapsed": 5537,
     "status": "aborted",
     "timestamp": 1748147386486,
     "user": {
      "displayName": "erik garcia chavez",
      "userId": "03953579049831948798"
     },
     "user_tz": 420
    },
    "id": "-kMv6ilMswX7"
   },
   "outputs": [
    {
     "data": {
      "text/plain": [
       "'\\ntau = 1\\nlambda_param = 0.1\\nTHETA = gdx_optimization(\\n    xTrain,\\n    tTrain,\\n    tau=tau,\\n    lambda_param=lambda_param,\\n    maxEpochs=10000,\\n    show=500,\\n    batch_size=1,\\n    learning_rate=1e-7,\\n    momentum=0.8,\\n    lr_dec=0.5,\\n    lr_inc=1.02,\\n    max_perf_inc=1.02,\\n    stopping_threshold=1e-6,\\n)\\n'"
      ]
     },
     "execution_count": 13,
     "metadata": {},
     "output_type": "execute_result"
    }
   ],
   "source": [
    "\n",
    "#ONLINE (1 a 1)\n",
    "\"\"\"\n",
    "tau = 1\n",
    "lambda_param = 0.1\n",
    "THETA = gdx_optimization(\n",
    "    xTrain,\n",
    "    tTrain,\n",
    "    tau=tau,\n",
    "    lambda_param=lambda_param,\n",
    "    maxEpochs=10000,\n",
    "    show=500,\n",
    "    batch_size=1,\n",
    "    learning_rate=1e-7,\n",
    "    momentum=0.8,\n",
    "    lr_dec=0.5,\n",
    "    lr_inc=1.02,\n",
    "    max_perf_inc=1.02,\n",
    "    stopping_threshold=1e-6,\n",
    ")\n",
    "\"\"\""
   ]
  },
  {
   "cell_type": "code",
   "execution_count": 14,
   "id": "57xLnSdtswtd",
   "metadata": {
    "executionInfo": {
     "elapsed": 5540,
     "status": "aborted",
     "timestamp": 1748147386489,
     "user": {
      "displayName": "erik garcia chavez",
      "userId": "03953579049831948798"
     },
     "user_tz": 420
    },
    "id": "57xLnSdtswtd"
   },
   "outputs": [
    {
     "data": {
      "text/plain": [
       "'\\n#lote\\ntau = 1\\nlambda_param = 0.1\\nTHETA = gdx_optimization(\\n    xTrain,\\n    tTrain,\\n    tau=tau,\\n    lambda_param=lambda_param,\\n    maxEpochs=10000,\\n    show=500,\\n    batch_size=xTrain.shape[0],\\n    learning_rate=1e-7,\\n    momentum=0.8,          \\n    lr_dec=0.5,           \\n    lr_inc=1.02,\\n    max_perf_inc=1.02,\\n    stopping_threshold=1e-6,\\n) '"
      ]
     },
     "execution_count": 14,
     "metadata": {},
     "output_type": "execute_result"
    }
   ],
   "source": [
    "\"\"\"\n",
    "#lote\n",
    "tau = 1\n",
    "lambda_param = 0.1\n",
    "THETA = gdx_optimization(\n",
    "    xTrain,\n",
    "    tTrain,\n",
    "    tau=tau,\n",
    "    lambda_param=lambda_param,\n",
    "    maxEpochs=10000,\n",
    "    show=500,\n",
    "    batch_size=xTrain.shape[0],\n",
    "    learning_rate=1e-7,\n",
    "    momentum=0.8,          \n",
    "    lr_dec=0.5,           \n",
    "    lr_inc=1.02,\n",
    "    max_perf_inc=1.02,\n",
    "    stopping_threshold=1e-6,\n",
    ") \"\"\"\n"
   ]
  },
  {
   "cell_type": "code",
   "execution_count": 15,
   "id": "8_8k-tjLsw2_",
   "metadata": {
    "executionInfo": {
     "elapsed": 5547,
     "status": "aborted",
     "timestamp": 1748147386497,
     "user": {
      "displayName": "erik garcia chavez",
      "userId": "03953579049831948798"
     },
     "user_tz": 420
    },
    "id": "8_8k-tjLsw2_"
   },
   "outputs": [],
   "source": [
    "# Make predictions\n",
    "# Train data\n",
    "A_train = designMatrix(tau,xTrain)\n",
    "outputTrain = model(A_train,THETA)\n",
    "# Test data\n",
    "A_test = designMatrix(tau,xTest)\n",
    "outputTest = model(A_test,THETA)\n"
   ]
  },
  {
   "cell_type": "code",
   "execution_count": 16,
   "id": "LiFG_ifrsw-Y",
   "metadata": {
    "executionInfo": {
     "elapsed": 5549,
     "status": "aborted",
     "timestamp": 1748147386500,
     "user": {
      "displayName": "erik garcia chavez",
      "userId": "03953579049831948798"
     },
     "user_tz": 420
    },
    "id": "LiFG_ifrsw-Y"
   },
   "outputs": [],
   "source": [
    "\n",
    "#desnormalizacion predicciones \n",
    "outputTrain_descaled = scaler_y.inverse_transform(outputTrain)\n",
    "outputTest_descaled = scaler_y.inverse_transform(outputTest)\n"
   ]
  },
  {
   "cell_type": "code",
   "execution_count": 17,
   "id": "686000fa-e841-49ff-8655-4c258e9bb619",
   "metadata": {},
   "outputs": [],
   "source": [
    "# desnormlaizar reales\n",
    "\n",
    "targets_train_descaled = scaler_y.inverse_transform(targets_train).reshape(-1, 1)\n",
    "targets_test_descaled = scaler_y.inverse_transform(targets_test).reshape(-1, 1)"
   ]
  },
  {
   "cell_type": "code",
   "execution_count": 18,
   "id": "oc9MqSIksdd2",
   "metadata": {
    "executionInfo": {
     "elapsed": 5551,
     "status": "aborted",
     "timestamp": 1748147386503,
     "user": {
      "displayName": "erik garcia chavez",
      "userId": "03953579049831948798"
     },
     "user_tz": 420
    },
    "id": "oc9MqSIksdd2"
   },
   "outputs": [
    {
     "name": "stdout",
     "output_type": "stream",
     "text": [
      "0.8175166700243921\n"
     ]
    }
   ],
   "source": [
    "\n",
    "# R2 for raw train data\n",
    "R2_train = r2_score(targets_train_descaled, outputTrain_descaled.reshape(-1, 1))\n",
    "print(R2_train)"
   ]
  },
  {
   "cell_type": "code",
   "execution_count": 19,
   "id": "3EIgRFwAs3td",
   "metadata": {
    "executionInfo": {
     "elapsed": 5559,
     "status": "aborted",
     "timestamp": 1748147386511,
     "user": {
      "displayName": "erik garcia chavez",
      "userId": "03953579049831948798"
     },
     "user_tz": 420
    },
    "id": "3EIgRFwAs3td"
   },
   "outputs": [
    {
     "name": "stdout",
     "output_type": "stream",
     "text": [
      "47590.92020642195\n"
     ]
    }
   ],
   "source": [
    "# MSE for raw train data\n",
    "MSE_train = mean_squared_error(targets_train_descaled, outputTrain_descaled.reshape(-1, 1))\n",
    "print(MSE_train)"
   ]
  },
  {
   "cell_type": "code",
   "execution_count": 20,
   "id": "kcYbJ1i8s36P",
   "metadata": {
    "executionInfo": {
     "elapsed": 5562,
     "status": "aborted",
     "timestamp": 1748147386515,
     "user": {
      "displayName": "erik garcia chavez",
      "userId": "03953579049831948798"
     },
     "user_tz": 420
    },
    "id": "kcYbJ1i8s36P"
   },
   "outputs": [
    {
     "name": "stdout",
     "output_type": "stream",
     "text": [
      "0.818961371109651\n"
     ]
    }
   ],
   "source": [
    "# R2 for raw test data\n",
    "R2_test = r2_score(targets_test_descaled, outputTest_descaled.reshape(-1, 1))\n",
    "print(R2_test)"
   ]
  },
  {
   "cell_type": "code",
   "execution_count": 21,
   "id": "P6hFo07Rs4Dh",
   "metadata": {
    "executionInfo": {
     "elapsed": 5565,
     "status": "aborted",
     "timestamp": 1748147386519,
     "user": {
      "displayName": "erik garcia chavez",
      "userId": "03953579049831948798"
     },
     "user_tz": 420
    },
    "id": "P6hFo07Rs4Dh"
   },
   "outputs": [
    {
     "name": "stdout",
     "output_type": "stream",
     "text": [
      "51171.802336793946\n"
     ]
    }
   ],
   "source": [
    "# MSE for raw test data\n",
    "MSE_test = mean_squared_error(targets_test_descaled, outputTest_descaled.reshape(-1, 1))\n",
    "print(MSE_test)"
   ]
  },
  {
   "cell_type": "code",
   "execution_count": 22,
   "id": "8fQHHCG9s4TJ",
   "metadata": {
    "executionInfo": {
     "elapsed": 5580,
     "status": "aborted",
     "timestamp": 1748147386535,
     "user": {
      "displayName": "erik garcia chavez",
      "userId": "03953579049831948798"
     },
     "user_tz": 420
    },
    "id": "8fQHHCG9s4TJ"
   },
   "outputs": [
    {
     "data": {
      "text/plain": [
       "array([[-0.01427245, -0.16533663],\n",
       "       [ 0.97275226,  0.81377015],\n",
       "       [ 0.02376489, -0.21209691]])"
      ]
     },
     "execution_count": 22,
     "metadata": {},
     "output_type": "execute_result"
    }
   ],
   "source": [
    "THETA"
   ]
  },
  {
   "cell_type": "code",
   "execution_count": null,
   "id": "yXtxPOpTs4XD",
   "metadata": {
    "executionInfo": {
     "elapsed": 5582,
     "status": "aborted",
     "timestamp": 1748147386538,
     "user": {
      "displayName": "erik garcia chavez",
      "userId": "03953579049831948798"
     },
     "user_tz": 420
    },
    "id": "yXtxPOpTs4XD"
   },
   "outputs": [],
   "source": []
  }
 ],
 "metadata": {
  "colab": {
   "provenance": []
  },
  "kernelspec": {
   "display_name": "Python 3 (ipykernel)",
   "language": "python",
   "name": "python3"
  },
  "language_info": {
   "codemirror_mode": {
    "name": "ipython",
    "version": 3
   },
   "file_extension": ".py",
   "mimetype": "text/x-python",
   "name": "python",
   "nbconvert_exporter": "python",
   "pygments_lexer": "ipython3",
   "version": "3.12.7"
  }
 },
 "nbformat": 4,
 "nbformat_minor": 5
}
