{
 "cells": [
  {
   "cell_type": "code",
   "execution_count": 1,
   "id": "7c7d7f01-142b-443f-a3f1-86900e5e5645",
   "metadata": {},
   "outputs": [],
   "source": [
    "import numpy as np\n",
    "import scipy.io as sp\n",
    "from sklearn.model_selection import train_test_split\n",
    "from sklearn.preprocessing import RobustScaler\n",
    "from sklearn.metrics import r2_score\n",
    "from sklearn.metrics import mean_squared_error\n",
    "import matplotlib.pyplot as plt\n",
    "import math \n"
   ]
  },
  {
   "cell_type": "code",
   "execution_count": 2,
   "id": "f772e9f0-cf90-4c02-b022-54043dff11ce",
   "metadata": {},
   "outputs": [],
   "source": [
    "def model(A, THETA):\n",
    "    \"\"\"\n",
    "    Multivariate Linear Regression Model, Yh = A*THETA\n",
    "    The matrix A is sometimes called the design matrix.\n",
    "    \"\"\"\n",
    "    return A.dot(THETA)"
   ]
  },
  {
   "cell_type": "code",
   "execution_count": 3,
   "id": "ecd9ad72-b45f-4d97-bae4-ba66a8928b50",
   "metadata": {},
   "outputs": [],
   "source": [
    "# Design Matrix\n",
    "def designMatrix(Tau,X):\n",
    "    q,_ = X.shape\n",
    "    for p in range(q):\n",
    "        M = powerVector(Tau,X[p,:])\n",
    "        if p == 0:\n",
    "            A = M\n",
    "            continue\n",
    "        A = np.vstack((A,M))\n",
    "    return A\n",
    "\n",
    "# Power Vector M\n",
    "# def powerVector(Tau, V):\n",
    "#     if V.size == 0 or Tau == 0:\n",
    "#         return np.array([1.0])\n",
    "#     Z = V[:-1]\n",
    "#     W = V[-1]\n",
    "#     terms = []\n",
    "#     for k in range(Tau + 1):\n",
    "#         sub_terms = powerVector(Tau - k, Z)\n",
    "#         for term in sub_terms:\n",
    "#             terms.append(term * (W ** k))\n",
    "#     return np.array(terms)\n",
    "\n",
    "def powerVector(Tau, V):\n",
    "    if V.size == 0 or Tau == 0:\n",
    "        return np.array([[1.0]])  # Asegurar 2D\n",
    "    Z = V[:-1]\n",
    "    W = V[-1]\n",
    "    terms = []\n",
    "    for k in range(Tau + 1):\n",
    "        sub_terms = powerVector(Tau - k, Z)\n",
    "        for term in sub_terms.flatten():  # Manejar sub_terms 2D\n",
    "            terms.append(term * (W ** k))\n",
    "    return np.array([terms])  # Devolver como 2D (1, n_terms)\n"
   ]
  },
  {
   "cell_type": "code",
   "execution_count": 4,
   "id": "466b3a03-0ee0-4e67-8246-5b442422d283",
   "metadata": {},
   "outputs": [],
   "source": [
    "#Polynomial parameter number\n",
    "# def polyParamsNumber(n,tau):\n",
    "#     s = 0\n",
    "#     for l in range(tau+1):\n",
    "#         #val = np.math.factorial(l+n-1)/np.math.factorial(n-1)\n",
    "#         val = math.factorial(l + n - 1) / (math.factorial(n - 1) * math.factorial(l))\n",
    "#         val = val/np.math.factorial(l)\n",
    "#         s = s + val\n",
    "#     return int(s)\n",
    "\n",
    "\n",
    "# def polyParamsNumber(n,tau):\n",
    "#     s = 0\n",
    "#     for l in range(tau+1):\n",
    "#         val = math.factorial(l + n - 1) / (math.factorial(n - 1) * math.factorial(l))\n",
    "#         val = val / math.factorial(l) \n",
    "#         s += val\n",
    "#     return int(s)\n",
    "\n",
    "def polyParamsNumber(n, tau):\n",
    "    return int(math.comb(n + tau, tau))\n",
    "\n",
    "\n"
   ]
  },
  {
   "cell_type": "code",
   "execution_count": 5,
   "id": "7f2ddb9e-7163-4c61-bceb-0b0d0d09c7f8",
   "metadata": {},
   "outputs": [],
   "source": [
    "def loss(Y_true, Y_pred, THETA, lambda_param):\n",
    "    \"\"\" Mean Squared Error \"\"\"\n",
    "    E = Y_true - Y_pred\n",
    "    SSE = np.square(np.linalg.norm(E, 'fro'))\n",
    "    Reg = (lambda_param/(2*E.shape[0]))*np.square(np.linalg.norm(THETA[1:,:], 'fro'))\n",
    "    MSE = SSE/(2*E.shape[0]) + Reg\n",
    "    return MSE\n"
   ]
  },
  {
   "cell_type": "code",
   "execution_count": 6,
   "id": "9ac5488e-03cb-404b-9d0e-147a3afb6748",
   "metadata": {},
   "outputs": [],
   "source": [
    "def gradient(A,E,THETA,lambda_param):\n",
    "    \"\"\" MSE Gradient \"\"\"\n",
    "    SSEGrad = -1.0*(A.T).dot(E)\n",
    "    MSEGrad = SSEGrad/E.shape[0]\n",
    "    MSEGrad[1:,:] = MSEGrad[1:,:] + (lambda_param/E.shape[0])*THETA[1:,:]\n",
    "    return MSEGrad\n",
    "\n",
    "\n"
   ]
  },
  {
   "cell_type": "code",
   "execution_count": 7,
   "id": "19137409-e04e-4a2f-bf02-c5668d1204cd",
   "metadata": {},
   "outputs": [],
   "source": [
    "#GDX\n",
    "def gdx_optimization(\n",
    "    X,\n",
    "    Y,\n",
    "    tau,\n",
    "    lambda_param=0.0,\n",
    "    maxEpochs=100,\n",
    "    show=10,\n",
    "    batch_size=16,\n",
    "    learning_rate=0.01,\n",
    "    momentum=0.9,\n",
    "    lr_dec=0.5,\n",
    "    lr_inc=1.05,\n",
    "    max_perf_inc=1.04,\n",
    "    stopping_threshold=1e-6,\n",
    "):\n",
    "    \"\"\"Optimizador GDX con manejo de tamaño de lote variable\"\"\"\n",
    "    n = X.shape[1]\n",
    "    m = Y.shape[1]\n",
    "    rho = polyParamsNumber(n, tau)\n",
    "    #rho me esta dando porbelmas \n",
    "    THETA = np.random.randn(rho, m) *0.01 #reduce la escala de la inicalizaciones de los pesos\n",
    "    delta_THETA = np.zeros((rho, m))\n",
    "    lr = learning_rate\n",
    "    q = X.shape[0]\n",
    "    previous_loss = np.inf\n",
    "\n",
    "    for epoch in range(maxEpochs + 1):\n",
    "        THETA_prev = THETA.copy()\n",
    "        current_loss = np.inf\n",
    "\n",
    "        if batch_size < q:\n",
    "            indices = np.random.permutation(q)\n",
    "            X = X[indices, :]\n",
    "            Y = Y[indices, :]\n",
    "\n",
    "        n_batches = q // batch_size\n",
    "        residual = q % batch_size\n",
    "        total_batches = n_batches + 1 if residual != 0 else n_batches\n",
    "\n",
    "        for batch_idx in range(total_batches):\n",
    "            start = batch_idx * batch_size\n",
    "            end = start + batch_size\n",
    "            if batch_idx == total_batches - 1 and residual != 0:\n",
    "                end = start + residual\n",
    "\n",
    "            X_batch = X[start:end, :]\n",
    "            Y_batch = Y[start:end, :]\n",
    "            # A_batch = designMatrix(tau, X_batch)\n",
    "            # Y_pred = model(A_batch, THETA)\n",
    "            # E_batch = Y_batch - Y_pred\n",
    "\n",
    "            A_batch = designMatrix(tau, X_batch)  # (batch_size, rho)\n",
    "            Y_pred = model(A_batch, THETA)  # (batch_size, m)\n",
    "            E_batch = Y_batch - Y_pred  # (batch_size, m)\n",
    "            Grad = gradient(A_batch, E_batch, THETA, lambda_param)\n",
    "            #evitar desbordamienteos \n",
    "            Grad = np.clip(Grad, -1e3, 1e3)\n",
    "            delta_THETA = momentum * delta_THETA - (1 - momentum) * lr * Grad\n",
    "            THETA += delta_THETA\n",
    "\n",
    "        A = designMatrix(tau, X)\n",
    "        Yh = model(A, THETA)\n",
    "        current_loss = loss(Y, Yh, THETA, lambda_param)\n",
    "\n",
    "        if current_loss > previous_loss * max_perf_inc:\n",
    "            THETA = THETA_prev\n",
    "            lr *= lr_dec\n",
    "        elif current_loss < previous_loss:\n",
    "            lr *= lr_inc\n",
    "\n",
    "        if epoch % show == 0:\n",
    "            print(f\"Epoch {epoch}: Loss={current_loss:.3e}, lr={lr:.2e}\")\n",
    "        if abs(previous_loss - current_loss) < stopping_threshold:\n",
    "            break\n",
    "        previous_loss = current_loss\n",
    "\n",
    "    return THETA"
   ]
  },
  {
   "cell_type": "code",
   "execution_count": 8,
   "id": "5882f31b-15b6-4ab5-a3cf-f0a620840959",
   "metadata": {},
   "outputs": [],
   "source": [
    "# Load dataset\n",
    "mat = sp.loadmat('engine_dataset.mat')\n",
    "#print(mat.keys())\n",
    "inputs  = mat['engineInputs'].T\n",
    "targets = mat['engineTargets'].T\n"
   ]
  },
  {
   "cell_type": "code",
   "execution_count": 9,
   "id": "5e0ecce4-c55b-4f7c-98b7-fdeb81971456",
   "metadata": {},
   "outputs": [],
   "source": [
    "# Train and Test Split Data\n",
    "inputs_train, inputs_test, targets_train, targets_test = train_test_split(inputs, targets, random_state = 1, test_size = 0.4)\n",
    "\n",
    "\n"
   ]
  },
  {
   "cell_type": "code",
   "execution_count": 10,
   "id": "f222b000-21e9-4b2f-a5e9-eb531e489c35",
   "metadata": {},
   "outputs": [],
   "source": [
    "# Train and Test Data\n",
    "# Train Data\n",
    "xTrain = inputs_train\n",
    "tTrain = targets_train\n",
    "# Test Data\n",
    "xTest = inputs_test\n",
    "tTest = targets_test\n",
    "\n"
   ]
  },
  {
   "cell_type": "code",
   "execution_count": 11,
   "id": "afc0d992-5876-4e4c-a85e-99874e9c2406",
   "metadata": {},
   "outputs": [
    {
     "name": "stdout",
     "output_type": "stream",
     "text": [
      "Epoch 0: Loss=3.905e+07, lr=1.05e-08\n",
      "Epoch 100: Loss=1.525e+05, lr=3.80e-08\n",
      "Epoch 200: Loss=1.458e+05, lr=6.96e-08\n",
      "Epoch 300: Loss=1.400e+05, lr=2.75e-08\n",
      "Epoch 400: Loss=1.356e+05, lr=4.56e-08\n",
      "Epoch 500: Loss=1.312e+05, lr=5.65e-08\n",
      "Epoch 600: Loss=1.270e+05, lr=4.46e-08\n",
      "Epoch 700: Loss=1.234e+05, lr=3.53e-08\n",
      "Epoch 800: Loss=1.187e+05, lr=4.81e-08\n",
      "Epoch 900: Loss=1.146e+05, lr=3.29e-08\n",
      "Epoch 1000: Loss=1.113e+05, lr=2.60e-08\n",
      "Epoch 1100: Loss=1.115e+05, lr=6.43e-08\n",
      "Epoch 1200: Loss=1.047e+05, lr=2.54e-08\n",
      "Epoch 1300: Loss=1.023e+05, lr=3.47e-08\n",
      "Epoch 1400: Loss=1.001e+05, lr=4.97e-08\n",
      "Epoch 1500: Loss=9.805e+04, lr=3.93e-08\n",
      "Epoch 1600: Loss=9.396e+04, lr=5.91e-08\n",
      "Epoch 1700: Loss=9.668e+04, lr=3.66e-08\n",
      "Epoch 1800: Loss=9.137e+04, lr=3.04e-08\n",
      "Epoch 1900: Loss=9.044e+04, lr=3.76e-08\n",
      "Epoch 2000: Loss=8.705e+04, lr=3.28e-08\n",
      "Epoch 2100: Loss=8.491e+04, lr=2.47e-08\n",
      "Epoch 2200: Loss=8.270e+04, lr=3.71e-08\n",
      "Epoch 2300: Loss=8.156e+04, lr=5.59e-08\n",
      "Epoch 2400: Loss=7.956e+04, lr=4.00e-08\n",
      "Epoch 2500: Loss=8.382e+04, lr=4.72e-08\n",
      "Epoch 2600: Loss=7.692e+04, lr=2.50e-08\n",
      "Epoch 2700: Loss=7.581e+04, lr=6.50e-08\n",
      "Epoch 2800: Loss=7.365e+04, lr=2.97e-08\n",
      "Epoch 2900: Loss=7.254e+04, lr=2.47e-08\n",
      "Epoch 3000: Loss=7.092e+04, lr=1.24e-08\n",
      "Epoch 3100: Loss=7.037e+04, lr=5.59e-08\n",
      "Epoch 3200: Loss=6.865e+04, lr=2.00e-08\n",
      "Epoch 3300: Loss=6.776e+04, lr=1.24e-08\n",
      "Epoch 3400: Loss=6.901e+04, lr=3.55e-08\n",
      "Epoch 3500: Loss=6.594e+04, lr=2.55e-08\n",
      "Epoch 3600: Loss=6.512e+04, lr=4.44e-08\n",
      "Epoch 3700: Loss=6.563e+04, lr=1.67e-08\n",
      "Epoch 3800: Loss=6.333e+04, lr=2.07e-08\n",
      "Epoch 3900: Loss=6.250e+04, lr=2.96e-08\n",
      "Epoch 4000: Loss=6.202e+04, lr=3.33e-08\n",
      "Epoch 4100: Loss=6.163e+04, lr=2.76e-08\n",
      "Epoch 4200: Loss=6.023e+04, lr=2.65e-08\n",
      "Epoch 4300: Loss=6.026e+04, lr=3.62e-08\n",
      "Epoch 4400: Loss=5.912e+04, lr=2.60e-08\n",
      "Epoch 4500: Loss=5.813e+04, lr=2.15e-08\n",
      "Epoch 4600: Loss=5.716e+04, lr=3.57e-08\n",
      "Epoch 4700: Loss=5.972e+04, lr=2.44e-08\n",
      "Epoch 4800: Loss=5.653e+04, lr=2.46e-08\n",
      "Epoch 4900: Loss=5.692e+04, lr=3.89e-08\n",
      "Epoch 5000: Loss=5.690e+04, lr=3.23e-08\n"
     ]
    }
   ],
   "source": [
    "\n",
    "#mini batch\n",
    "# Find the optimal parameters m and b with RMSprop\n",
    "#polinomio grado 1\n",
    "# tau = 1\n",
    "# lambda_param = 0.1\n",
    "\n",
    "# THETA = gdx_optimization(\n",
    "#     xTrain,\n",
    "#     tTrain,\n",
    "#     tau=tau,\n",
    "#     lambda_param=lambda_param,\n",
    "#     maxEpochs=10000,\n",
    "#     show=500,\n",
    "#     batch_size=256,\n",
    "#     learning_rate=1e-8,\n",
    "#     momentum=0.9,          \n",
    "#     lr_dec=0.5,           \n",
    "#     lr_inc=1.05,\n",
    "#     max_perf_inc=1.04,\n",
    "#     stopping_threshold=1e-6,\n",
    "# )\n",
    "\n",
    "\n",
    "#vamos a ver con el grado 2\n",
    "tau = 2\n",
    "lambda_param = 0.01\n",
    "\n",
    "THETA = gdx_optimization(\n",
    "    xTrain,\n",
    "    tTrain,\n",
    "    tau=tau,\n",
    "    lambda_param=lambda_param,\n",
    "    maxEpochs=5000,\n",
    "    show=100,\n",
    "    batch_size=64,\n",
    "    learning_rate=1e-8,\n",
    "    momentum=0.9,          \n",
    "    lr_dec=0.5,           \n",
    "    lr_inc=1.05,\n",
    "    max_perf_inc=1.04,\n",
    "    stopping_threshold=1e-6,\n",
    ")"
   ]
  },
  {
   "cell_type": "code",
   "execution_count": 12,
   "id": "61b89166-31c5-48a6-b926-a1b20689f51f",
   "metadata": {},
   "outputs": [
    {
     "data": {
      "text/plain": [
       "'\\ntau = 2\\nlambda_param = 0.001\\nTHETA = gdx_optimization(\\n    xTrain,\\n    tTrain,\\n    tau=tau,\\n    lambda_param=lambda_param,\\n    maxEpochs=100000,\\n    show=1000,\\n    batch_size=1,\\n    learning_rate=1e-6,\\n    momentum=0.9,          \\n    lr_dec=0.5,           \\n    lr_inc=1.05,\\n    max_perf_inc=1.04,\\n    stopping_threshold=1e-6,\\n)'"
      ]
     },
     "execution_count": 12,
     "metadata": {},
     "output_type": "execute_result"
    }
   ],
   "source": [
    "\n",
    "#ONLINE (1 a 1)\n",
    "\"\"\"\n",
    "tau = 2\n",
    "lambda_param = 0.001\n",
    "THETA = gdx_optimization(\n",
    "    xTrain,\n",
    "    tTrain,\n",
    "    tau=tau,\n",
    "    lambda_param=lambda_param,\n",
    "    maxEpochs=100000,\n",
    "    show=1000,\n",
    "    batch_size=1,\n",
    "    learning_rate=1e-6,\n",
    "    momentum=0.9,          \n",
    "    lr_dec=0.5,           \n",
    "    lr_inc=1.05,\n",
    "    max_perf_inc=1.04,\n",
    "    stopping_threshold=1e-6,\n",
    ")\"\"\"\n"
   ]
  },
  {
   "cell_type": "code",
   "execution_count": 13,
   "id": "db55c6ac-213b-4917-9574-8f04dd2d4eaf",
   "metadata": {},
   "outputs": [],
   "source": [
    "\n",
    "# #lote\n",
    "# tau = 1\n",
    "# lambda_param = 0.001\n",
    "# THETA = gdx_optimization(\n",
    "#     xTrain,\n",
    "#     tTrain,\n",
    "#     tau=tau,\n",
    "#     lambda_param=lambda_param,\n",
    "#     maxEpochs=10000,\n",
    "#     show=500,\n",
    "#     batch_size=xTrain.shape[0],\n",
    "#     learning_rate=1e-4,\n",
    "#     momentum=0.9,          \n",
    "#     lr_dec=0.5,           \n",
    "#     lr_inc=1.05,\n",
    "#     max_perf_inc=1.04,\n",
    "#     stopping_threshold=1e-6,\n",
    "# )\n"
   ]
  },
  {
   "cell_type": "code",
   "execution_count": 14,
   "id": "652a540e-9d2e-4134-b084-81bd3e3b779a",
   "metadata": {},
   "outputs": [],
   "source": [
    "# Make predictions\n",
    "# Train data\n",
    "A_train = designMatrix(tau,xTrain)\n",
    "outputTrain = model(A_train,THETA)\n",
    "# Test data\n",
    "A_test = designMatrix(tau,xTest)\n",
    "outputTest = model(A_test,THETA)\n",
    "\n"
   ]
  },
  {
   "cell_type": "code",
   "execution_count": 15,
   "id": "6b298c7b-f4f3-4d73-bac9-7fbfc3aeaff8",
   "metadata": {},
   "outputs": [
    {
     "name": "stdout",
     "output_type": "stream",
     "text": [
      "0.7818092530573167\n"
     ]
    }
   ],
   "source": [
    "# R2 for raw train data\n",
    "R2_train = r2_score(tTrain.reshape(-1, 1),outputTrain.reshape(-1, 1))\n",
    "print(R2_train)"
   ]
  },
  {
   "cell_type": "code",
   "execution_count": 16,
   "id": "ca426507-eeaa-4a21-95b7-d5faa67b6a33",
   "metadata": {},
   "outputs": [
    {
     "name": "stdout",
     "output_type": "stream",
     "text": [
      "56903.271268213015\n"
     ]
    }
   ],
   "source": [
    "# MSE for raw train data\n",
    "MSE_train = mean_squared_error(tTrain.reshape(-1, 1),outputTrain.reshape(-1, 1))\n",
    "print(MSE_train)\n"
   ]
  },
  {
   "cell_type": "code",
   "execution_count": 17,
   "id": "8a08eee2-6b71-4668-9fcc-19b1d218f70d",
   "metadata": {},
   "outputs": [
    {
     "name": "stdout",
     "output_type": "stream",
     "text": [
      "0.7965078657888922\n"
     ]
    }
   ],
   "source": [
    "# R2 for raw test data\n",
    "R2_test = r2_score(tTest.reshape(-1, 1),outputTest.reshape(-1, 1))\n",
    "print(R2_test)\n"
   ]
  },
  {
   "cell_type": "code",
   "execution_count": 18,
   "id": "f7da55b1-10f8-4c0f-9a10-ababe54dbca5",
   "metadata": {},
   "outputs": [
    {
     "name": "stdout",
     "output_type": "stream",
     "text": [
      "57518.43864908027\n"
     ]
    }
   ],
   "source": [
    "\n",
    "# MSE for raw test data\n",
    "MSE_test = mean_squared_error(tTest.reshape(-1, 1),outputTest.reshape(-1, 1))\n",
    "print(MSE_test)\n"
   ]
  },
  {
   "cell_type": "code",
   "execution_count": 19,
   "id": "36e787e2-0646-47ea-a9c3-f0285c7294de",
   "metadata": {},
   "outputs": [
    {
     "data": {
      "text/plain": [
       "array([[ 4.51642758e-02,  2.21471542e-01],\n",
       "       [ 8.38437768e-01,  1.23893727e+00],\n",
       "       [ 3.19812643e-03, -1.22669404e-02],\n",
       "       [ 3.80654015e-01,  1.02722627e+00],\n",
       "       [ 2.89710047e-03,  4.54033384e-03],\n",
       "       [-2.98960141e-04, -5.96018931e-04]])"
      ]
     },
     "execution_count": 19,
     "metadata": {},
     "output_type": "execute_result"
    }
   ],
   "source": [
    "THETA"
   ]
  },
  {
   "cell_type": "code",
   "execution_count": null,
   "id": "d8c92f20-53a3-469b-85c3-996321da3909",
   "metadata": {},
   "outputs": [],
   "source": []
  },
  {
   "cell_type": "code",
   "execution_count": null,
   "id": "fccaa0c7-f5f4-4d37-b0a8-29d7a468f7b6",
   "metadata": {},
   "outputs": [],
   "source": []
  },
  {
   "cell_type": "code",
   "execution_count": null,
   "id": "2fc5911d-d3d8-4d87-a580-f5d7a98c6041",
   "metadata": {},
   "outputs": [],
   "source": []
  }
 ],
 "metadata": {
  "kernelspec": {
   "display_name": "Python 3 (ipykernel)",
   "language": "python",
   "name": "python3"
  },
  "language_info": {
   "codemirror_mode": {
    "name": "ipython",
    "version": 3
   },
   "file_extension": ".py",
   "mimetype": "text/x-python",
   "name": "python",
   "nbconvert_exporter": "python",
   "pygments_lexer": "ipython3",
   "version": "3.12.7"
  }
 },
 "nbformat": 4,
 "nbformat_minor": 5
}
