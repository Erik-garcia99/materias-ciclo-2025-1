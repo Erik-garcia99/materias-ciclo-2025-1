{
 "cells": [
  {
   "cell_type": "code",
   "execution_count": 1,
   "id": "9aefa2a7-a7d1-42c5-a65f-3ad7d118d8cd",
   "metadata": {},
   "outputs": [],
   "source": [
    "import numpy as np\n",
    "import scipy.io as sp\n",
    "from sklearn.model_selection import train_test_split\n",
    "from sklearn.preprocessing import RobustScaler\n",
    "from sklearn.metrics import r2_score\n",
    "from sklearn.metrics import mean_squared_error\n",
    "import matplotlib.pyplot as plt\n",
    "import math "
   ]
  },
  {
   "cell_type": "code",
   "execution_count": 2,
   "id": "4d854c06-18f5-48c0-8ffc-55774208d7b2",
   "metadata": {},
   "outputs": [],
   "source": [
    "def model(A, THETA):\n",
    "    \"\"\"\n",
    "    Multivariate Linear Regression Model, Yh = A*THETA\n",
    "    The matrix A is sometimes called the design matrix.\n",
    "    \"\"\"\n",
    "    return A.dot(THETA)\n"
   ]
  },
  {
   "cell_type": "code",
   "execution_count": 3,
   "id": "453155ad-46f2-4398-857c-feefc71eec38",
   "metadata": {},
   "outputs": [],
   "source": [
    "\n",
    "\n",
    "\"\"\"\n",
    "# Power Vector\n",
    "def powerVector(Tau,V):\n",
    "    if V.size == 0 or Tau == 0:\n",
    "        return 1\n",
    "    else:\n",
    "        M = np.array([])\n",
    "        Z = V[:-1]\n",
    "        W = V[-1]\n",
    "        for k in range(Tau+1):\n",
    "            value = powerVector(Tau-k,Z)*(W**k)\n",
    "            M = np.append(M,value)\n",
    "        return M\"\"\"\n",
    "\n",
    "\n",
    "# Design Matrix\n",
    "def designMatrix(Tau,X):\n",
    "    q,_ = X.shape\n",
    "    for p in range(q):\n",
    "        M = powerVector(Tau,X[p,:])\n",
    "        if p == 0:\n",
    "            A = M\n",
    "            continue\n",
    "        A = np.vstack((A,M))\n",
    "    return A\n",
    "\n",
    "# Power Vector M\n",
    "# def powerVector(Tau, V):\n",
    "#     if V.size == 0 or Tau == 0:\n",
    "#         return np.array([1.0])\n",
    "#     Z = V[:-1]\n",
    "#     W = V[-1]\n",
    "#     terms = []\n",
    "#     for k in range(Tau + 1):\n",
    "#         sub_terms = powerVector(Tau - k, Z)\n",
    "#         for term in sub_terms:\n",
    "#             terms.append(term * (W ** k))\n",
    "#     return np.array(terms)\n",
    "\n",
    "def powerVector(Tau, V):\n",
    "    if V.size == 0 or Tau == 0:\n",
    "        return np.array([[1.0]])  # Asegurar 2D\n",
    "    Z = V[:-1]\n",
    "    W = V[-1]\n",
    "    terms = []\n",
    "    for k in range(Tau + 1):\n",
    "        sub_terms = powerVector(Tau - k, Z)\n",
    "        for term in sub_terms.flatten():  # Manejar sub_terms 2D\n",
    "            terms.append(term * (W ** k))\n",
    "    return np.array([terms])  # Devolver como 2D (1, n_terms)\n",
    "\n",
    "\n",
    "\n"
   ]
  },
  {
   "cell_type": "code",
   "execution_count": 4,
   "id": "0e67e353-e19f-4eef-ab02-76eae12d60b7",
   "metadata": {},
   "outputs": [],
   "source": [
    "#Polynomial parameter number\n",
    "# def polyParamsNumber(n,tau):\n",
    "#     s = 0\n",
    "#     for l in range(tau+1):\n",
    "#         #val = np.math.factorial(l+n-1)/np.math.factorial(n-1)\n",
    "#         val = math.factorial(l + n - 1) / (math.factorial(n - 1) * math.factorial(l))\n",
    "#         val = val/np.math.factorial(l)\n",
    "#         s = s + val\n",
    "#     return int(s)\n",
    "\n",
    "\n",
    "# def polyParamsNumber(n,tau):\n",
    "#     s = 0\n",
    "#     for l in range(tau+1):\n",
    "#         val = math.factorial(l + n - 1) / (math.factorial(n - 1) * math.factorial(l))\n",
    "#         val = val / math.factorial(l)  # Usar math en lugar de np.math\n",
    "#         s += val\n",
    "#     return int(s)\n",
    "\n",
    "def polyParamsNumber(n, tau):\n",
    "    return int(math.comb(n + tau, tau))\n",
    "\n",
    "\n"
   ]
  },
  {
   "cell_type": "code",
   "execution_count": 5,
   "id": "d51b7da7-0ebe-43d1-95f6-219be7a7c3d0",
   "metadata": {},
   "outputs": [],
   "source": [
    "def loss(Y_true, Y_pred, THETA, lambda_param):\n",
    "    \"\"\" Mean Squared Error \"\"\"\n",
    "    E = Y_true - Y_pred\n",
    "    SSE = np.square(np.linalg.norm(E, 'fro'))\n",
    "    Reg = (lambda_param/(2*E.shape[0]))*np.square(np.linalg.norm(THETA[1:,:], 'fro'))\n",
    "    MSE = SSE/(2*E.shape[0]) + Reg\n",
    "    return MSE\n"
   ]
  },
  {
   "cell_type": "code",
   "execution_count": 6,
   "id": "4dc22a0a-d04b-466a-8aab-aefca9babaf7",
   "metadata": {},
   "outputs": [],
   "source": [
    "\n",
    "def gradient(A,E,THETA,lambda_param):\n",
    "    \"\"\" MSE Gradient \"\"\"\n",
    "    SSEGrad = -1.0*(A.T).dot(E)\n",
    "    MSEGrad = SSEGrad/E.shape[0]\n",
    "    MSEGrad[1:,:] = MSEGrad[1:,:] + (lambda_param/E.shape[0])*THETA[1:,:]\n",
    "    return MSEGrad\n",
    "\n"
   ]
  },
  {
   "cell_type": "code",
   "execution_count": 7,
   "id": "5763104a-fd63-4186-bbf8-bb6ca40d4627",
   "metadata": {},
   "outputs": [],
   "source": [
    "def gdx_optimization(\n",
    "    X,\n",
    "    Y,\n",
    "    tau,\n",
    "    lambda_param=0.0,\n",
    "    maxEpochs=100,\n",
    "    show=10,\n",
    "    batch_size=16,\n",
    "    learning_rate=0.01,\n",
    "    momentum=0.9,\n",
    "    lr_dec=0.5,\n",
    "    lr_inc=1.05,\n",
    "    max_perf_inc=1.04,\n",
    "    stopping_threshold=1e-6,\n",
    "):\n",
    "    \"\"\"Optimizador GDX con manejo de tamaño de lote variable\"\"\"\n",
    "    n = X.shape[1]\n",
    "    m = Y.shape[1]\n",
    "    rho = polyParamsNumber(n, tau)\n",
    "    #rho me esta dando porbelmas \n",
    "    THETA = np.random.randn(rho, m) *0.01 #reduce la escala de la inicalizaciones de los pesos\n",
    "    delta_THETA = np.zeros((rho, m))\n",
    "    lr = learning_rate\n",
    "    q = X.shape[0]\n",
    "    previous_loss = np.inf\n",
    "\n",
    "    for epoch in range(maxEpochs + 1):\n",
    "        THETA_prev = THETA.copy()\n",
    "        current_loss = np.inf\n",
    "\n",
    "        if batch_size < q:\n",
    "            indices = np.random.permutation(q)\n",
    "            X = X[indices, :]\n",
    "            Y = Y[indices, :]\n",
    "\n",
    "        n_batches = q // batch_size\n",
    "        residual = q % batch_size\n",
    "        total_batches = n_batches + 1 if residual != 0 else n_batches\n",
    "\n",
    "        for batch_idx in range(total_batches):\n",
    "            start = batch_idx * batch_size\n",
    "            end = start + batch_size\n",
    "            if batch_idx == total_batches - 1 and residual != 0:\n",
    "                end = start + residual\n",
    "\n",
    "            X_batch = X[start:end, :]\n",
    "            Y_batch = Y[start:end, :]\n",
    "            # A_batch = designMatrix(tau, X_batch)\n",
    "            # Y_pred = model(A_batch, THETA)\n",
    "            # E_batch = Y_batch - Y_pred\n",
    "\n",
    "            A_batch = designMatrix(tau, X_batch)  # (batch_size, rho)\n",
    "            Y_pred = model(A_batch, THETA)  # (batch_size, m)\n",
    "            E_batch = Y_batch - Y_pred  # (batch_size, m)\n",
    "            Grad = gradient(A_batch, E_batch, THETA, lambda_param)\n",
    "            #evitar desbordamienteos \n",
    "            Grad = np.clip(Grad, -1e3, 1e3)\n",
    "            delta_THETA = momentum * delta_THETA - (1 - momentum) * lr * Grad\n",
    "            THETA += delta_THETA\n",
    "\n",
    "        A = designMatrix(tau, X)\n",
    "        Yh = model(A, THETA)\n",
    "        current_loss = loss(Y, Yh, THETA, lambda_param)\n",
    "\n",
    "        if current_loss > previous_loss * max_perf_inc:\n",
    "            THETA = THETA_prev\n",
    "            lr *= lr_dec\n",
    "        elif current_loss < previous_loss:\n",
    "            lr *= lr_inc\n",
    "\n",
    "        if epoch % show == 0:\n",
    "            print(f\"Epoch {epoch}: Loss={current_loss:.3e}, lr={lr:.2e}\")\n",
    "        if abs(previous_loss - current_loss) < stopping_threshold:\n",
    "            break\n",
    "        previous_loss = current_loss\n",
    "\n",
    "    return THETA"
   ]
  },
  {
   "cell_type": "code",
   "execution_count": 8,
   "id": "2b135a43-eb36-4c11-b651-02d10b4a9027",
   "metadata": {},
   "outputs": [],
   "source": [
    "# Load dataset\n",
    "mat = sp.loadmat('engine_dataset.mat')\n",
    "#print(mat.keys())\n",
    "inputs  = mat['engineInputs'].T\n",
    "targets = mat['engineTargets'].T\n",
    "\n"
   ]
  },
  {
   "cell_type": "code",
   "execution_count": 9,
   "id": "5a8c6383-10d4-41e8-899c-c75b036ca1d8",
   "metadata": {},
   "outputs": [],
   "source": [
    "# Train and Test Split Data\n",
    "inputs_train, inputs_test, targets_train, targets_test = train_test_split(inputs, targets, random_state = 1, test_size = 0.4)\n"
   ]
  },
  {
   "cell_type": "code",
   "execution_count": 10,
   "id": "ebbf1770-f5e7-4c5b-b901-e8a8e7c2cdc0",
   "metadata": {},
   "outputs": [],
   "source": [
    "# Train and Test Data\n",
    "# Train Data\n",
    "xTrain = inputs_train\n",
    "tTrain = targets_train\n",
    "# Test Data\n",
    "xTest = inputs_test\n",
    "tTest = targets_test\n",
    "\n"
   ]
  },
  {
   "cell_type": "code",
   "execution_count": 11,
   "id": "ea9ba5d2-9be4-42a8-917d-156b8d420108",
   "metadata": {},
   "outputs": [
    {
     "data": {
      "text/plain": [
       "'\\nmini batch\\n# Find the optimal parameters m and b with RMSprop\\ntau = 1\\nlambda_param = 0.1\\n\\nTHETA = gdx_optimization(\\n    xTrain,\\n    tTrain,\\n    tau=tau,\\n    lambda_param=lambda_param,\\n    maxEpochs=10000,\\n    show=500,\\n    batch_size=256,\\n    learning_rate=1e-8,\\n    momentum=0.9,          \\n    lr_dec=0.5,           \\n    lr_inc=1.05,\\n    max_perf_inc=1.04,\\n    stopping_threshold=1e-6,\\n)'"
      ]
     },
     "execution_count": 11,
     "metadata": {},
     "output_type": "execute_result"
    }
   ],
   "source": [
    "\n",
    "\n",
    "\"\"\"\n",
    "mini batch\n",
    "# Find the optimal parameters m and b with RMSprop\n",
    "tau = 1\n",
    "lambda_param = 0.1\n",
    "\n",
    "THETA = gdx_optimization(\n",
    "    xTrain,\n",
    "    tTrain,\n",
    "    tau=tau,\n",
    "    lambda_param=lambda_param,\n",
    "    maxEpochs=10000,\n",
    "    show=500,\n",
    "    batch_size=256,\n",
    "    learning_rate=1e-8,\n",
    "    momentum=0.9,          \n",
    "    lr_dec=0.5,           \n",
    "    lr_inc=1.05,\n",
    "    max_perf_inc=1.04,\n",
    "    stopping_threshold=1e-6,\n",
    ")\"\"\""
   ]
  },
  {
   "cell_type": "code",
   "execution_count": 12,
   "id": "d83c9c77-231e-4822-a22c-d94880a4900e",
   "metadata": {},
   "outputs": [
    {
     "name": "stderr",
     "output_type": "stream",
     "text": [
      "C:\\Users\\erikG\\AppData\\Local\\Temp\\ipykernel_11228\\64018449.py:58: RuntimeWarning: invalid value encountered in subtract\n",
      "  delta_THETA = momentum * delta_THETA - (1 - momentum) * lr * Grad\n"
     ]
    },
    {
     "name": "stdout",
     "output_type": "stream",
     "text": [
      "Epoch 0: Loss=nan, lr=1.00e-06\n",
      "Epoch 1000: Loss=nan, lr=1.00e-06\n",
      "Epoch 2000: Loss=nan, lr=1.00e-06\n"
     ]
    },
    {
     "name": "stderr",
     "output_type": "stream",
     "text": [
      "\n",
      "KeyboardInterrupt\n",
      "\n"
     ]
    }
   ],
   "source": [
    "#ONLINE (1 a 1)\n",
    "\n",
    "tau = 2\n",
    "lambda_param = 0.001\n",
    "THETA = gdx_optimization(\n",
    "    xTrain,\n",
    "    tTrain,\n",
    "    tau=tau,\n",
    "    lambda_param=lambda_param,\n",
    "    maxEpochs=100000,\n",
    "    show=1000,\n",
    "    batch_size=1,\n",
    "    learning_rate=1e-6,\n",
    "    momentum=0.9,          \n",
    "    lr_dec=0.5,           \n",
    "    lr_inc=1.05,\n",
    "    max_perf_inc=1.04,\n",
    "    stopping_threshold=1e-6,\n",
    ")"
   ]
  },
  {
   "cell_type": "code",
   "execution_count": null,
   "id": "80545bf9-be38-4427-b3f2-bdbc0215e83e",
   "metadata": {},
   "outputs": [],
   "source": [
    "\"\"\"\n",
    "#lote\n",
    "tau = 1\n",
    "lambda_param = 0.001\n",
    "THETA = gdx_optimization(\n",
    "    xTrain,\n",
    "    tTrain,\n",
    "    tau=tau,\n",
    "    lambda_param=lambda_param,\n",
    "    maxEpochs=100000,\n",
    "    show=1000,\n",
    "    batch_size=xTrain.shape[0],\n",
    "    learning_rate=1e-4,\n",
    "    momentum=0.9,          \n",
    "    lr_dec=0.5,           \n",
    "    lr_inc=1.05,\n",
    "    max_perf_inc=1.04,\n",
    "    stopping_threshold=1e-6,\n",
    ")\"\"\"\n"
   ]
  },
  {
   "cell_type": "code",
   "execution_count": null,
   "id": "47110a0b-8e51-4a6d-825b-a8522aeb48ab",
   "metadata": {},
   "outputs": [],
   "source": [
    "# Make predictions\n",
    "# Train data\n",
    "A_train = designMatrix(tau,xTrain)\n",
    "outputTrain = model(A_train,THETA)\n",
    "# Test data\n",
    "A_test = designMatrix(tau,xTest)\n",
    "outputTest = model(A_test,THETA)\n",
    "\n"
   ]
  },
  {
   "cell_type": "code",
   "execution_count": null,
   "id": "d2e67591-991b-489b-bb9c-7abedcaf825d",
   "metadata": {},
   "outputs": [],
   "source": [
    "\n",
    "# R2 for raw train data\n",
    "R2_train = r2_score(tTrain.reshape(-1, 1),outputTrain.reshape(-1, 1))\n",
    "print(R2_train)\n",
    "\n"
   ]
  },
  {
   "cell_type": "code",
   "execution_count": null,
   "id": "686c491d-2fbb-4c1a-a40a-f1f81dd73211",
   "metadata": {},
   "outputs": [],
   "source": [
    "# MSE for raw train data\n",
    "MSE_train = mean_squared_error(tTrain.reshape(-1, 1),outputTrain.reshape(-1, 1))\n",
    "print(MSE_train)\n",
    "\n"
   ]
  },
  {
   "cell_type": "code",
   "execution_count": null,
   "id": "4aa9ac46-6eb0-41fb-a1f4-0fed73a7b4bc",
   "metadata": {},
   "outputs": [],
   "source": [
    "\n",
    "# R2 for raw test data\n",
    "R2_test = r2_score(tTest.reshape(-1, 1),outputTest.reshape(-1, 1))\n",
    "print(R2_test)\n",
    "\n"
   ]
  },
  {
   "cell_type": "code",
   "execution_count": null,
   "id": "a5150429-c154-4c62-b6ac-8ea6547112a5",
   "metadata": {},
   "outputs": [],
   "source": [
    "\n",
    "# MSE for raw test data\n",
    "MSE_test = mean_squared_error(tTest.reshape(-1, 1),outputTest.reshape(-1, 1))\n",
    "print(MSE_test)\n"
   ]
  },
  {
   "cell_type": "code",
   "execution_count": null,
   "id": "ee657f5a-e80b-45e5-96a6-ee371b98e612",
   "metadata": {},
   "outputs": [],
   "source": [
    "print(THETA)"
   ]
  }
 ],
 "metadata": {
  "kernelspec": {
   "display_name": "Python 3 (ipykernel)",
   "language": "python",
   "name": "python3"
  },
  "language_info": {
   "codemirror_mode": {
    "name": "ipython",
    "version": 3
   },
   "file_extension": ".py",
   "mimetype": "text/x-python",
   "name": "python",
   "nbconvert_exporter": "python",
   "pygments_lexer": "ipython3",
   "version": "3.12.7"
  }
 },
 "nbformat": 4,
 "nbformat_minor": 5
}
