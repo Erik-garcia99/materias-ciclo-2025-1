{
 "cells": [
  {
   "cell_type": "code",
   "execution_count": 1,
   "id": "b52cb2c5-16ea-453f-bb48-f8227153eca3",
   "metadata": {},
   "outputs": [],
   "source": [
    "# Basic Imports\n",
    "import numpy as np\n",
    "import matplotlib.pyplot as plt\n",
    "import pandas as pd\n",
    "from sklearn.model_selection import train_test_split #serpara los datos \n",
    "from sklearn.metrics import confusion_matrix, classification_report #estos los regulatado las claisigfacion y la matriz de confusion\n",
    "from sklearn.preprocessing import StandardScaler #normalizar los datos "
   ]
  },
  {
   "cell_type": "code",
   "execution_count": 2,
   "id": "5f263964-e916-411b-b993-cce8a873d8bb",
   "metadata": {},
   "outputs": [],
   "source": [
    "\n",
    "def to_classlabel(z):\n",
    "    return z.argmax(axis = 1) #etiqeuta en la columna\n",
    "\n"
   ]
  },
  {
   "cell_type": "code",
   "execution_count": 3,
   "id": "4818b3d7-e908-427a-8d34-0560e1fa02a3",
   "metadata": {},
   "outputs": [],
   "source": [
    "#y susecion de numeros, \n",
    "# def one_hot_encode(y):\n",
    "#     n_class = np.unique(y).shape[0] #cunatas clases tiene Y \n",
    "#     y_encode = np.zeros((y.shape[0], n_class)) #inicialzia la tabla, rengloes(instancias ) columnas numero de clases\n",
    "#     for idx, val in enumerate(y):\n",
    "#         y_encode[idx, val] = 1.0\n",
    "#     return y_encode\n",
    "\n",
    "def one_hot_encode(y):\n",
    "    n_class = np.unique(y).shape[0]\n",
    "    y_encode = np.zeros((y.shape[0], n_class))\n",
    "    for idx, val in enumerate(y):\n",
    "        y_encode[idx, val] = 1.0\n",
    "    return y_encode"
   ]
  },
  {
   "cell_type": "code",
   "execution_count": 4,
   "id": "7e66c1bc-95a7-4635-bff3-fe552f888335",
   "metadata": {},
   "outputs": [],
   "source": [
    "# Define Accuracy\n",
    "def accuracy(y_true, y_pred):\n",
    "    acc = np.sum(y_true == y_pred) / len(y_true)\n",
    "    return acc #presicion \n"
   ]
  },
  {
   "cell_type": "code",
   "execution_count": 5,
   "id": "3e071db7-9792-446c-b63e-1cd39987d4a4",
   "metadata": {},
   "outputs": [],
   "source": [
    "class Softmax_Regression_GDX():\n",
    "    \n",
    "    def __init__(self, lambda_param=0.01):\n",
    "        self.theta = None\n",
    "        self.lambda_param = lambda_param  # Parámetro de regularización L2\n",
    "        \n",
    "    \n",
    "    def _softmax(self, Z):\n",
    "        # Estabilidad numérica: restar el máximo para evitar overflow\n",
    "        shiftZ = Z - np.max(Z, axis=1, keepdims=True)\n",
    "        expZ = np.exp(shiftZ)\n",
    "        return expZ / np.sum(expZ, axis=1, keepdims=True)\n",
    "\n",
    "\n",
    "\n",
    "    #fiunciond e cosot binaria \n",
    "    def _loss(self, Y, h):\n",
    "        \"\"\"Funcion de perdida de entropia cruzada categorica con regularizacion L2\"\"\"\n",
    "        epsilon = 1e-10  # Para evitar log(0)\n",
    "        m = Y.shape[0]\n",
    "        # Pérdida de entropia cruzada\n",
    "        loss = -np.sum(Y * np.log(np.clip(h, epsilon, 1 - epsilon))) / m\n",
    "        # Término de regularización L2 (excluir sesgo)\n",
    "        reg_term = (self.lambda_param / (2 * m)) * np.sum(self.theta[1:, :]**2)\n",
    "        return loss + reg_term\n",
    "\n",
    "    def fit(self, A, y, learning_rate=0.01, momentum=0.9, \n",
    "            lr_dec=0.5, lr_inc=1.05, max_perf_inc=1.04,\n",
    "            epochs=100, batch_size=32, show_step=10, \n",
    "            stopping_threshold=1e-6, verbose=False):\n",
    "        \n",
    "        # Convertir y a one-hot encoding\n",
    "        Y = one_hot_encode(y)\n",
    "        n_classes = Y.shape[1]\n",
    "        n_features = A.shape[1]\n",
    "        \n",
    "        # Inicializar parametros\n",
    "        self.theta = np.random.randn(n_features, n_classes) * 0.01\n",
    "        delta_theta = np.zeros_like(self.theta)\n",
    "        n_obs = A.shape[0]\n",
    "        lr = learning_rate\n",
    "        previous_loss = np.inf\n",
    "        epoch_loss = []\n",
    "        \n",
    "        for e in range(epochs + 1):\n",
    "            THETA_prev = self.theta.copy()\n",
    "            loss_e = 0\n",
    "            \n",
    "            # barajar datos\n",
    "            indices = np.random.permutation(n_obs)\n",
    "            A_shuffled = A[indices]\n",
    "            Y_shuffled = Y[indices]\n",
    "            \n",
    "            # mini-lotes\n",
    "            n_batches = n_obs // batch_size\n",
    "            residual = n_obs % batch_size\n",
    "            total_batches = n_batches + (1 if residual != 0 else 0)\n",
    "            \n",
    "            for batch_idx in range(total_batches):\n",
    "                start = batch_idx * batch_size\n",
    "                end = start + batch_size\n",
    "                if batch_idx == n_batches and residual != 0:\n",
    "                    end = start + residual\n",
    "                \n",
    "                A_batch = A_shuffled[start:end]\n",
    "                Y_batch = Y_shuffled[start:end]\n",
    "\n",
    "                #modificacion para lotes : \n",
    "\n",
    "                if fit_params['batch_size'] == len(y_train):  # Solo para batch completo\n",
    "                    dropout_mask = np.random.binomial(1, 0.7, size=A_batch.shape)\n",
    "                    A_batch = A_batch * dropout_mask\n",
    "                \n",
    "                # calcular softmax y pérdida\n",
    "                Z_batch = A_batch @ self.theta\n",
    "                S_batch = self._softmax(Z_batch)\n",
    "                loss_batch = self._loss(Y_batch, S_batch)\n",
    "                loss_e += loss_batch\n",
    "                \n",
    "                # calcular gradiente con regularizacion L2\n",
    "                grad = (1 / len(A_batch)) * A_batch.T @ (S_batch - Y_batch)\n",
    "                # Aplicar regularización solo a los pesos (no al sesgo)\n",
    "                grad[1:, :] += (self.lambda_param / len(A_batch)) * self.theta[1:, :]\n",
    "                \n",
    "                # actualización GDX con momento\n",
    "                delta_theta = momentum * delta_theta - (1 - momentum) * lr * grad\n",
    "                self.theta += delta_theta\n",
    "            \n",
    "            # ajuste adaptativo de learning rate\n",
    "            avg_loss = loss_e / total_batches\n",
    "            if avg_loss > previous_loss * max_perf_inc:\n",
    "                self.theta = THETA_prev\n",
    "                lr *= lr_dec\n",
    "            elif avg_loss < previous_loss:\n",
    "                lr *= lr_inc\n",
    "            \n",
    "            epoch_loss.append(avg_loss)\n",
    "            \n",
    "            # Parada temprana\n",
    "            if abs(previous_loss - avg_loss) < stopping_threshold:\n",
    "                if verbose:\n",
    "                    print(f\"Early stopping at epoch {e}\")\n",
    "                break\n",
    "            \n",
    "            previous_loss = avg_loss\n",
    "            \n",
    "            if verbose and e % show_step == 0:\n",
    "                print(f'Epoch: {e}, Loss: {avg_loss:.6f}, LR: {lr:.6f}')\n",
    "        \n",
    "        return epoch_loss\n",
    "                \n",
    "    def predict(self, A):\n",
    "        Z = A @ self.theta\n",
    "        S = self._softmax(Z)\n",
    "        return np.argmax(S, axis=1)\n",
    "\n",
    "\n"
   ]
  },
  {
   "cell_type": "code",
   "execution_count": 6,
   "id": "555bd596-1928-4b89-afff-fae599504252",
   "metadata": {},
   "outputs": [],
   "source": [
    "\n",
    "\n",
    "# # Read the data\n",
    "# data = np.loadtxt('admisiones_dataset.txt',delimiter=',')\n",
    "# inputs = data[:,0:2]\n",
    "# idx = 2-data[:,2] #restamos el 1 para establecer el categorico, adminitivos - 1 no admitivos - 0 \n",
    "# targets = np.array(idx, dtype=int)     # codificacion categorica\n",
    "# # targets = one_hot_encode(labels)      # one hot encode to classlabel\n",
    "\n",
    "\n",
    "# Cargar datos usando el formato especificado\n",
    "try:\n",
    "    # Intenta leer como archivo de texto\n",
    "    data = np.loadtxt('cancer_dataset.dat', delimiter=',')\n",
    "except:\n",
    "    # Intenta leer como binario si falla\n",
    "    data = np.fromfile('cancer_dataset.dat', dtype=np.float32)\n",
    "    # Ajustar según la estructura de tus datos (30 características + 1 etiqueta)\n",
    "    data = data.reshape((-1, 31))\n",
    "\n",
    "# Procesamiento de datos\n",
    "inputs = data[:, :-1]\n",
    "targets = data[:, -1].astype(int)\n",
    "\n"
   ]
  },
  {
   "cell_type": "code",
   "execution_count": 7,
   "id": "a98fa012-939d-43a4-bf38-6cbcadc00aa2",
   "metadata": {},
   "outputs": [],
   "source": [
    "\n",
    "# Split the data\n",
    "# x_train,x_test,y_train,y_test = train_test_split(inputs,targets,test_size=0.40,random_state=1234) # test_size genreta entrenamiento y prueba \n",
    "\n",
    "# División de datos\n",
    "x_train, x_test, y_train, y_test = train_test_split(\n",
    "    inputs, targets, test_size=0.3, random_state=42\n",
    ")\n"
   ]
  },
  {
   "cell_type": "code",
   "execution_count": 8,
   "id": "ba658d95-e3d7-4afd-8ed1-7207cf48cb2f",
   "metadata": {},
   "outputs": [],
   "source": [
    "# Normalización\n",
    "scaler = StandardScaler()\n",
    "x_train = scaler.fit_transform(x_train)\n",
    "x_test = scaler.transform(x_test)\n",
    "\n"
   ]
  },
  {
   "cell_type": "code",
   "execution_count": 9,
   "id": "136b4b4f-9b5e-4557-b2ae-b8d09d20cd7b",
   "metadata": {},
   "outputs": [],
   "source": [
    "#matrices de disenio, \n",
    "A_train = np.c_[np.ones(len(x_train)), x_train]\n",
    "A_test  = np.c_[np.ones(len(x_test)), x_test]\n"
   ]
  },
  {
   "cell_type": "code",
   "execution_count": 10,
   "id": "65f07808-dbf5-436f-8e71-50252b37be42",
   "metadata": {},
   "outputs": [],
   "source": [
    "# Parámetros para el constructor\n",
    "\n",
    "\n",
    "\n",
    "#online\n",
    "#lambda_param = 0.01  # Regularización L2\n",
    "# fit_params = {\n",
    "#     'learning_rate': 0.01,\n",
    "#     'momentum': 0.95,\n",
    "#     'lr_dec': 0.5,\n",
    "#     'lr_inc': 1.05,\n",
    "#     'max_perf_inc': 1.04,\n",
    "#     'epochs': 1000,\n",
    "#     'batch_size': 1,\n",
    "#     'show_step': 100,\n",
    "#     'stopping_threshold': 1e-6,\n",
    "#     'verbose': True\n",
    "# }\n",
    "\n",
    "\n",
    "#minilonte\n",
    "\n",
    "lambda_param = 0.01  # Regularización L2\n",
    "fit_params = {\n",
    "    'learning_rate': 0.01,\n",
    "    'momentum': 0.95,\n",
    "    'lr_dec': 0.5,\n",
    "    'lr_inc': 1.05,\n",
    "    'max_perf_inc': 1.04,\n",
    "    'epochs': 1000,\n",
    "    'batch_size': 64,\n",
    "    'show_step': 100,\n",
    "    'stopping_threshold': 1e-6,\n",
    "    'verbose': True\n",
    "}\n",
    "\n",
    "#lote\n",
    "\n",
    "# lambda_param = 1.0 # Regularización L\n",
    "# fit_params = {\n",
    "#     'learning_rate': 0.1,\n",
    "#     'momentum': 0.95,\n",
    "#     'lr_dec': 0.5,\n",
    "#     'lr_inc': 1.05,\n",
    "#     'max_perf_inc': 1.04,\n",
    "#     'epochs': 500,\n",
    "#     'batch_size': len(y_train),\n",
    "#     'show_step': 50,\n",
    "#     'stopping_threshold': 1e-4,\n",
    "#     'verbose': True\n",
    "# }"
   ]
  },
  {
   "cell_type": "code",
   "execution_count": 11,
   "id": "3da9eec8-712e-4b0e-9364-6c21f3899d08",
   "metadata": {},
   "outputs": [
    {
     "name": "stdout",
     "output_type": "stream",
     "text": [
      "Epoch: 0, Loss: 0.675855, LR: 0.010500\n",
      "Epoch: 100, Loss: 0.017103, LR: 0.030976\n",
      "Epoch: 200, Loss: 0.015922, LR: 0.000001\n",
      "Epoch: 300, Loss: 0.015738, LR: 0.000000\n",
      "Epoch: 400, Loss: 0.015789, LR: 0.000000\n",
      "Epoch: 500, Loss: 0.015578, LR: 0.000000\n",
      "Epoch: 600, Loss: 0.015712, LR: 0.000000\n",
      "Epoch: 700, Loss: 0.015742, LR: 0.000000\n",
      "Epoch: 800, Loss: 0.015653, LR: 0.000000\n",
      "Epoch: 900, Loss: 0.015613, LR: 0.000000\n",
      "Epoch: 1000, Loss: 0.015716, LR: 0.000000\n"
     ]
    }
   ],
   "source": [
    "\n",
    "# # Build and fit best LR model\n",
    "# alpha = 0.01 #lr\n",
    "# maxEpochs = 5000\n",
    "# batch = 10 #minilotes\n",
    "# show = 500 #view\n",
    "\n",
    "# # Build model\n",
    "# log_model = Logistic_Regression()\n",
    "# # Fit Model\n",
    "# theta, batch_loss, epoch_loss = log_model.fit(A_train, y_train, learning_rate=alpha, \n",
    "#                                 epochs=maxEpochs, batch_size=batch, show_step = show, verbose=True)\n",
    "\n",
    "\n",
    "# Entrenamiento del modelo\n",
    "model = Softmax_Regression_GDX(lambda_param=lambda_param)\n",
    "loss_history = model.fit(A_train, y_train, **fit_params)\n"
   ]
  },
  {
   "cell_type": "code",
   "execution_count": 12,
   "id": "8f4d36d4-0e44-48b5-b516-d88eb4dfd84f",
   "metadata": {},
   "outputs": [],
   "source": [
    "# Predicciones y evaluación\n",
    "# Predicciones\n",
    "train_pred = model.predict(A_train)\n",
    "test_pred = model.predict(A_test)\n"
   ]
  },
  {
   "cell_type": "code",
   "execution_count": 13,
   "id": "a8492ee3-28ff-4eca-9934-a82601d587bf",
   "metadata": {},
   "outputs": [
    {
     "name": "stdout",
     "output_type": "stream",
     "text": [
      "Modo de aprendizaje: Mini-lotes\n",
      "Tamaño de lote: 64\n",
      "Regularización L2: lambda=0.01\n"
     ]
    }
   ],
   "source": [
    "print(f\"Modo de aprendizaje: {'Online' if fit_params['batch_size'] == 1 else 'Batch completo' if fit_params['batch_size'] >= len(y_train) else 'Mini-lotes'}\")\n",
    "print(f\"Tamaño de lote: {fit_params['batch_size']}\")\n",
    "print(f\"Regularización L2: lambda={lambda_param}\")\n",
    "# print(f\"Épocas completadas: {len(epoch_loss)}/{fit_params['epochs']}\")"
   ]
  },
  {
   "cell_type": "code",
   "execution_count": 14,
   "id": "ba39c75f-f4ae-43fc-b6da-170be6000b9c",
   "metadata": {},
   "outputs": [
    {
     "name": "stdout",
     "output_type": "stream",
     "text": [
      "\n",
      "Resultados en conjunto de entrenamiento:\n",
      "Accuracy: 0.9959\n",
      "Matriz de confusión:\n",
      "[[326   2]\n",
      " [  0 161]]\n",
      "\n",
      "Reporte de clasificación:\n",
      "              precision    recall  f1-score   support\n",
      "\n",
      "           0       1.00      0.99      1.00       328\n",
      "           1       0.99      1.00      0.99       161\n",
      "\n",
      "    accuracy                           1.00       489\n",
      "   macro avg       0.99      1.00      1.00       489\n",
      "weighted avg       1.00      1.00      1.00       489\n",
      "\n"
     ]
    }
   ],
   "source": [
    "# # Calculate accuracy\n",
    "# train_acc = accuracy(y_train, train_pred)\n",
    "# print(f'Accuracy on training set: {train_acc}')\n",
    "#resultados finales\n",
    "print(\"\\nresultados en conjunto de entrenamiento:\")\n",
    "print(f'Accuracy: {accuracy(y_train, train_pred):.4f}')\n",
    "print(\"matriz de confusion:\")\n",
    "print(confusion_matrix(y_train, train_pred))\n",
    "print(\"\\nreporte de clasificacion:\")\n",
    "print(classification_report(y_train, train_pred))"
   ]
  },
  {
   "cell_type": "code",
   "execution_count": 15,
   "id": "425439f0-ff11-4a1e-89a5-6fbc89e2d334",
   "metadata": {},
   "outputs": [
    {
     "name": "stdout",
     "output_type": "stream",
     "text": [
      "\n",
      "Resultados en conjunto de prueba:\n",
      "Accuracy: 0.9952\n",
      "Matriz de confusión:\n",
      "[[129   1]\n",
      " [  0  80]]\n",
      "\n",
      "Reporte de clasificación:\n",
      "              precision    recall  f1-score   support\n",
      "\n",
      "           0       1.00      0.99      1.00       130\n",
      "           1       0.99      1.00      0.99        80\n",
      "\n",
      "    accuracy                           1.00       210\n",
      "   macro avg       0.99      1.00      0.99       210\n",
      "weighted avg       1.00      1.00      1.00       210\n",
      "\n"
     ]
    }
   ],
   "source": [
    "print(\"\\nresultados en conjunto de prueba:\")\n",
    "print(f'Accuracy: {accuracy(y_test, test_pred):.4f}')\n",
    "print(\"\\nmatriz de confusion:\")\n",
    "print(confusion_matrix(y_test, test_pred))\n",
    "print(\"\\nreporte de clasificacion:\")\n",
    "print(classification_report(y_test, test_pred))\n",
    "\n"
   ]
  },
  {
   "cell_type": "code",
   "execution_count": 16,
   "id": "d177b767-e419-4500-a59f-3d10a3d073a5",
   "metadata": {},
   "outputs": [
    {
     "data": {
      "image/png": "[encoded data removed]",
      "text/plain": [
       "<Figure size 1000x600 with 1 Axes>"
      ]
     },
     "metadata": {},
     "output_type": "display_data"
    }
   ],
   "source": [
    "\n",
    "# Gráfica de pérdida\n",
    "# Gráfica de pérdida\n",
    "plt.figure(figsize=(10, 6))\n",
    "plt.plot(loss_history, 'b-', linewidth=2)\n",
    "plt.title('evolucion de la Perdida por epoca')\n",
    "plt.xlabel('epoca')\n",
    "plt.ylabel('perdida (entropia cruzada)')\n",
    "plt.grid(True)\n",
    "plt.show()\n"
   ]
  },
  {
   "cell_type": "code",
   "execution_count": null,
   "id": "f4820d3f-8312-409b-8cc9-32020b7ebb31",
   "metadata": {},
   "outputs": [],
   "source": []
  },
  {
   "cell_type": "code",
   "execution_count": null,
   "id": "a44806e3-08e7-49cf-b4f6-e68593c086cb",
   "metadata": {},
   "outputs": [],
   "source": []
  },
  {
   "cell_type": "code",
   "execution_count": null,
   "id": "330b03f9-0576-4fc4-8163-4dcbcb442024",
   "metadata": {},
   "outputs": [],
   "source": []
  },
  {
   "cell_type": "code",
   "execution_count": null,
   "id": "48b1b7d8-b3f1-4e38-b191-2b8b998d7225",
   "metadata": {},
   "outputs": [],
   "source": []
  },
  {
   "cell_type": "code",
   "execution_count": null,
   "id": "54171d68-7869-4554-88c5-b696f1ba77e9",
   "metadata": {},
   "outputs": [],
   "source": []
  }
 ],
 "metadata": {
  "kernelspec": {
   "display_name": "Python 3 (ipykernel)",
   "language": "python",
   "name": "python3"
  },
  "language_info": {
   "codemirror_mode": {
    "name": "ipython",
    "version": 3
   },
   "file_extension": ".py",
   "mimetype": "text/x-python",
   "name": "python",
   "nbconvert_exporter": "python",
   "pygments_lexer": "ipython3",
   "version": "3.12.7"
  }
 },
 "nbformat": 4,
 "nbformat_minor": 5
}
