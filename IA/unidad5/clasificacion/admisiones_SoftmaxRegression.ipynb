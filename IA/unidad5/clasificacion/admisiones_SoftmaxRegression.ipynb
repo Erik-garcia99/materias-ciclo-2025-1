{
 "cells": [
  {
   "cell_type": "code",
   "execution_count": 1,
   "id": "15b24670-cee7-4b31-b288-73888a7ed750",
   "metadata": {},
   "outputs": [],
   "source": [
    "import numpy as np\n",
    "import pandas as pd\n",
    "import scipy.io as sp\n",
    "from scipy.special import softmax\n",
    "from sklearn.model_selection import train_test_split\n",
    "from sklearn.metrics import confusion_matrix, classification_report\n",
    "from sklearn.preprocessing import StandardScaler"
   ]
  },
  {
   "cell_type": "code",
   "execution_count": 2,
   "id": "875932e9-09f2-413b-8b38-3ad4ec59be7e",
   "metadata": {},
   "outputs": [],
   "source": [
    "def to_classlabel(z):\n",
    "    return z.argmax(axis = 1)"
   ]
  },
  {
   "cell_type": "code",
   "execution_count": 3,
   "id": "5ee5f430-e177-4383-b3de-609d85677184",
   "metadata": {},
   "outputs": [],
   "source": [
    "def one_hot_encode(y):\n",
    "    n_class = np.unique(y).shape[0]\n",
    "    y_encode = np.zeros((y.shape[0], n_class))\n",
    "    for idx, val in enumerate(y):\n",
    "        y_encode[idx, val] = 1.0\n",
    "    return y_encode"
   ]
  },
  {
   "cell_type": "code",
   "execution_count": 4,
   "id": "25b7db2a-6d2a-4e71-bb27-8304c92849be",
   "metadata": {},
   "outputs": [],
   "source": [
    "# Define Accuracy\n",
    "def accuracy(y_true, y_pred):\n",
    "    acc = np.sum(y_true == y_pred) / len(y_true)\n",
    "    return acc"
   ]
  },
  {
   "cell_type": "code",
   "execution_count": null,
   "id": "f438cc17-6f7b-4646-823f-d77d257ba493",
   "metadata": {},
   "outputs": [],
   "source": [
    "def loss(A, Y, W, mu):\n",
    "    \"\"\"\n",
    "    Y: onehot encoded\n",
    "    \"\"\"\n",
    "    #Z seria la hipotesis A matriz de disneio y W theha, mu - lamnda de regularizacion \n",
    "    # la funcion de perdida categorica \n",
    "    Z = A @ W\n",
    "    N = A.shape[0]\n",
    "    loss = 1/N * (-np.trace(A @ W @ Y.T) + np.sum(np.log(np.sum(np.exp(Z), axis=1)))) #perdida sin regularizacion \n",
    "    reg = mu*np.linalg.norm(W,'fro')**2 #usa la formula 2 (modelos de regresion pg 28)\n",
    "    lossreg = loss + reg\n",
    "    return lossreg"
   ]
  },
  {
   "cell_type": "code",
   "execution_count": null,
   "id": "716c6c24-b098-44ec-a281-2537d58dcbb4",
   "metadata": {},
   "outputs": [],
   "source": [
    "def gradient(A, Y, W, mu):\n",
    "    \"\"\"\n",
    "    Y: onehot encoded \n",
    "    \"\"\"\n",
    "    Z = A @ W\n",
    "    P = softmax(Z, axis=1) #probabilidad \n",
    "    N = A.shape[0]\n",
    "    gd = -1/N * (A.T @ (Y - P)) + 2 * mu * W #mu - lambda \n",
    "    return gd"
   ]
  },
  {
   "cell_type": "code",
   "execution_count": null,
   "id": "12a9c4cf-a6b5-4325-a9cd-ca739a506e11",
   "metadata": {},
   "outputs": [],
   "source": [
    "#entrenamiento \n",
    "def gradient_descent(A, Y, max_iter=1000, eta=0.1, mu=0.01):\n",
    "    \"\"\"\n",
    "    Very basic gradient descent algorithm with fixed eta and mu\n",
    "    \"\"\"\n",
    "    Y_onehot = one_hot_encode(Y)\n",
    "    W = np.zeros((A.shape[1], Y_onehot.shape[1])) #thetah numero de parametos por el numero de etiquetas \n",
    "    step = 0\n",
    "    step_lst = [] \n",
    "    loss_lst = []\n",
    "    W_lst = []\n",
    " \n",
    "    while step < max_iter:\n",
    "        step += 1\n",
    "        W -= eta * gradient(A, Y_onehot, W, mu)\n",
    "        #historiales se pasos, pesos \n",
    "        step_lst.append(step)\n",
    "        W_lst.append(W)\n",
    "        loss_lst.append(loss(A, Y_onehot, W, mu))\n",
    "\n",
    "    df = pd.DataFrame({\n",
    "        'step': step_lst, \n",
    "        'loss': loss_lst\n",
    "    })\n",
    "    return df, W #W parametros "
   ]
  },
  {
   "cell_type": "code",
   "execution_count": null,
   "id": "3dc61367-775e-442f-815f-a065e7618a35",
   "metadata": {},
   "outputs": [],
   "source": [
    "# Multiclass logistic regression\n",
    "#modificar para lotes, minilotes, online \n",
    "class Multiclass:\n",
    "    def fit(self, A, Y):\n",
    "        self.loss_steps, self.W = gradient_descent(A, Y)\n",
    "\n",
    "    def loss_plot(self):\n",
    "        return self.loss_steps.plot(\n",
    "            x='step', \n",
    "            y='loss',\n",
    "            xlabel='Epochs',\n",
    "            ylabel='MCCE loss'\n",
    "        )\n",
    "\n",
    "    def predict(self, A):\n",
    "        Z = A @ self.W #hipotesis \n",
    "        P = softmax(Z, axis=1) #probalidad. \n",
    "        return to_classlabel(P)"
   ]
  },
  {
   "cell_type": "code",
   "execution_count": 9,
   "id": "9e5e80c2-5bb7-442a-98f0-5828ccb2479c",
   "metadata": {},
   "outputs": [],
   "source": [
    "# load dataset\n",
    "\n",
    "data = np.loadtxt('admisiones_dataset.txt',delimiter = ',')\n",
    "inputs = data[:,0:2]\n",
    "idx = data[:,2]-1\n",
    "targets = np.array(idx, dtype=int)  # codificacion categorica"
   ]
  },
  {
   "cell_type": "code",
   "execution_count": 10,
   "id": "3a1633d2-dac6-4a50-9db0-bd973910a747",
   "metadata": {},
   "outputs": [],
   "source": [
    "# Split the data\n",
    "X_train,X_test,Y_train,Y_test = train_test_split(inputs,targets,test_size=0.40,random_state=1234)"
   ]
  },
  {
   "cell_type": "code",
   "execution_count": null,
   "id": "7d88bb9a-be7b-44f3-bfa9-52d7ed0b7d24",
   "metadata": {},
   "outputs": [],
   "source": [
    "# Standardize the data\n",
    "scaler  = StandardScaler()\n",
    "X_train = scaler.fit_transform(X_train) #nromaizlar los datos \n",
    "X_test  = scaler.fit_transform(X_test)"
   ]
  },
  {
   "cell_type": "code",
   "execution_count": 12,
   "id": "4253b89a-4e17-4ea6-a246-36aa32dac72c",
   "metadata": {},
   "outputs": [],
   "source": [
    "# Design Matrix\n",
    "A_train = np.c_[np.ones(len(X_train)), X_train]\n",
    "A_test  = np.c_[np.ones(len(X_test)), X_test]"
   ]
  },
  {
   "cell_type": "code",
   "execution_count": 13,
   "id": "3ed13fb5-3dde-45d5-b9dd-385a1626a0a8",
   "metadata": {},
   "outputs": [],
   "source": [
    "# fit model\n",
    "model = Multiclass()\n",
    "model.fit(A_train, Y_train)"
   ]
  },
  {
   "cell_type": "code",
   "execution_count": 14,
   "id": "ce9a8c3c-5573-44a0-97cc-c897820c2996",
   "metadata": {},
   "outputs": [
    {
     "data": {
      "text/plain": [
       "<Axes: xlabel='Epochs', ylabel='MCCE loss'>"
      ]
     },
     "execution_count": 14,
     "metadata": {},
     "output_type": "execute_result"
    },
    {
     "data": {
      "image/png": "[encoded data removed]",
      "text/plain": [
       "<Figure size 640x480 with 1 Axes>"
      ]
     },
     "metadata": {},
     "output_type": "display_data"
    }
   ],
   "source": [
    "# plot loss\n",
    "model.loss_plot()"
   ]
  },
  {
   "cell_type": "code",
   "execution_count": 15,
   "id": "dab941f3-f691-4504-8692-b18be5bcf921",
   "metadata": {},
   "outputs": [],
   "source": [
    "# predict \n",
    "train_pred = model.predict(A_train)"
   ]
  },
  {
   "cell_type": "code",
   "execution_count": 16,
   "id": "2f938632-4bad-40c0-8b2c-519b21f07665",
   "metadata": {},
   "outputs": [
    {
     "name": "stdout",
     "output_type": "stream",
     "text": [
      "Accuracy on training set: 0.95\n"
     ]
    }
   ],
   "source": [
    "# Calculate accuracy\n",
    "train_acc = accuracy(Y_train, train_pred)\n",
    "print(f'Accuracy on training set: {train_acc}')"
   ]
  },
  {
   "cell_type": "code",
   "execution_count": 17,
   "id": "503bf411-cb86-41d5-bb49-72d3be6dc1de",
   "metadata": {},
   "outputs": [
    {
     "name": "stdout",
     "output_type": "stream",
     "text": [
      "Performance on training set:\n",
      "\n",
      "Confusion Matrix:\n",
      " [[25  1]\n",
      " [ 2 32]]\n",
      "\n",
      "Classification Report:\n",
      "               precision    recall  f1-score   support\n",
      "\n",
      "           0       0.93      0.96      0.94        26\n",
      "           1       0.97      0.94      0.96        34\n",
      "\n",
      "    accuracy                           0.95        60\n",
      "   macro avg       0.95      0.95      0.95        60\n",
      "weighted avg       0.95      0.95      0.95        60\n",
      "\n"
     ]
    }
   ],
   "source": [
    "# Calculate metrics\n",
    "cm_train = confusion_matrix(Y_train, train_pred)\n",
    "train_report = classification_report(Y_train, train_pred)\n",
    "\n",
    "print(\"Performance on training set:\\n\")\n",
    "print(f'Confusion Matrix:\\n {cm_train}\\n')\n",
    "print(f'Classification Report:\\n {train_report}')"
   ]
  },
  {
   "cell_type": "code",
   "execution_count": null,
   "id": "09762a90-d783-4dbc-a938-f17247405a36",
   "metadata": {},
   "outputs": [],
   "source": [
    "#datos que no se entrenaron.\n",
    "\n",
    "\n",
    "# Create predictions on test set\n",
    "test_pred = model.predict(A_test)"
   ]
  },
  {
   "cell_type": "code",
   "execution_count": 19,
   "id": "e04e4117-fc47-4efd-a057-33b8d77ef830",
   "metadata": {},
   "outputs": [
    {
     "name": "stdout",
     "output_type": "stream",
     "text": [
      "Accuracy on test set: 0.825\n"
     ]
    }
   ],
   "source": [
    "# Calculate accuracy\n",
    "test_acc = accuracy(Y_test, test_pred)\n",
    "print(f'Accuracy on test set: {test_acc}')"
   ]
  },
  {
   "cell_type": "code",
   "execution_count": 20,
   "id": "ea4aaa46-5410-4130-9830-0f498024d99d",
   "metadata": {},
   "outputs": [
    {
     "name": "stdout",
     "output_type": "stream",
     "text": [
      "Performance on test set:\n",
      "\n",
      "Confusion Matrix:\n",
      " [[10  4]\n",
      " [ 3 23]]\n",
      "\n",
      "Classification Report:\n",
      "               precision    recall  f1-score   support\n",
      "\n",
      "           0       0.77      0.71      0.74        14\n",
      "           1       0.85      0.88      0.87        26\n",
      "\n",
      "    accuracy                           0.82        40\n",
      "   macro avg       0.81      0.80      0.80        40\n",
      "weighted avg       0.82      0.82      0.82        40\n",
      "\n"
     ]
    }
   ],
   "source": [
    "# Calculate metrics\n",
    "cm_test = confusion_matrix(Y_test, test_pred)\n",
    "test_report = classification_report(Y_test, test_pred)\n",
    "\n",
    "print(\"Performance on test set:\\n\")\n",
    "print(f'Confusion Matrix:\\n {cm_test}\\n')\n",
    "print(f'Classification Report:\\n {test_report}')"
   ]
  },
  {
   "cell_type": "code",
   "execution_count": 21,
   "id": "ea1d5375-ef92-4627-8c57-d4174b89f73d",
   "metadata": {},
   "outputs": [
    {
     "name": "stdout",
     "output_type": "stream",
     "text": [
      "[[-0.46543597  0.46543597]\n",
      " [-1.2769459   1.2769459 ]\n",
      " [-1.11610903  1.11610903]]\n"
     ]
    }
   ],
   "source": [
    "THETA = model.W\n",
    "print(THETA)"
   ]
  },
  {
   "cell_type": "code",
   "execution_count": null,
   "id": "a1a90cee-bfbf-4779-9fb1-0954482ca0b9",
   "metadata": {},
   "outputs": [],
   "source": []
  }
 ],
 "metadata": {
  "kernelspec": {
   "display_name": "Python 3 (ipykernel)",
   "language": "python",
   "name": "python3"
  },
  "language_info": {
   "codemirror_mode": {
    "name": "ipython",
    "version": 3
   },
   "file_extension": ".py",
   "mimetype": "text/x-python",
   "name": "python",
   "nbconvert_exporter": "python",
   "pygments_lexer": "ipython3",
   "version": "3.8.17"
  }
 },
 "nbformat": 4,
 "nbformat_minor": 5
}
